{
  "nbformat": 4,
  "nbformat_minor": 0,
  "metadata": {
    "colab": {
      "name": "CSW4020_Midterm.ipynb",
      "provenance": [],
      "collapsed_sections": [],
      "authorship_tag": "ABX9TyOKyb9WYI06MbMT1P29Lkn2",
      "include_colab_link": true
    },
    "kernelspec": {
      "name": "python3",
      "display_name": "Python 3"
    },
    "language_info": {
      "name": "python"
    }
  },
  "cells": [
    {
      "cell_type": "markdown",
      "metadata": {
        "id": "view-in-github",
        "colab_type": "text"
      },
      "source": [
        "<a href=\"https://colab.research.google.com/github/jyjoon001/CSW4020/blob/main/CSW4020_Midterm.ipynb\" target=\"_parent\"><img src=\"https://colab.research.google.com/assets/colab-badge.svg\" alt=\"Open In Colab\"/></a>"
      ]
    },
    {
      "cell_type": "markdown",
      "metadata": {
        "id": "EoKbIB0QBdMv"
      },
      "source": [
        "# 중간고사 대비용 Jupyter Notebook"
      ]
    },
    {
      "cell_type": "code",
      "metadata": {
        "colab": {
          "base_uri": "https://localhost:8080/"
        },
        "id": "tTP8xT2yChS5",
        "outputId": "d0198d0e-0572-4f70-a97f-07e7c8c80936"
      },
      "source": [
        "import nltk\n",
        "import re\n",
        "nltk.download('book')\n",
        "nltk.download('punkt')\n",
        "nltk.download('stopwords')\n",
        "nltk.download('gutenberg')\n",
        "nltk.download('words')\n",
        "from nltk.book import *\n",
        "from nltk.corpus import brown\n",
        "from nltk.corpus import stopwords\n",
        "from nltk.corpus import gutenberg\n",
        "from nltk.corpus import inaugural\n",
        "from nltk.corpus import PlaintextCorpusReader\n",
        "from nltk.corpus.reader.plaintext import CategorizedPlaintextCorpusReader\n",
        "names = nltk.corpus.names"
      ],
      "execution_count": null,
      "outputs": [
        {
          "output_type": "stream",
          "text": [
            "[nltk_data] Downloading collection 'book'\n",
            "[nltk_data]    | \n",
            "[nltk_data]    | Downloading package abc to /root/nltk_data...\n",
            "[nltk_data]    |   Unzipping corpora/abc.zip.\n",
            "[nltk_data]    | Downloading package brown to /root/nltk_data...\n",
            "[nltk_data]    |   Unzipping corpora/brown.zip.\n",
            "[nltk_data]    | Downloading package chat80 to /root/nltk_data...\n",
            "[nltk_data]    |   Unzipping corpora/chat80.zip.\n",
            "[nltk_data]    | Downloading package cmudict to /root/nltk_data...\n",
            "[nltk_data]    |   Unzipping corpora/cmudict.zip.\n",
            "[nltk_data]    | Downloading package conll2000 to /root/nltk_data...\n",
            "[nltk_data]    |   Unzipping corpora/conll2000.zip.\n",
            "[nltk_data]    | Downloading package conll2002 to /root/nltk_data...\n",
            "[nltk_data]    |   Unzipping corpora/conll2002.zip.\n",
            "[nltk_data]    | Downloading package dependency_treebank to\n",
            "[nltk_data]    |     /root/nltk_data...\n",
            "[nltk_data]    |   Unzipping corpora/dependency_treebank.zip.\n",
            "[nltk_data]    | Downloading package genesis to /root/nltk_data...\n",
            "[nltk_data]    |   Unzipping corpora/genesis.zip.\n",
            "[nltk_data]    | Downloading package gutenberg to /root/nltk_data...\n",
            "[nltk_data]    |   Unzipping corpora/gutenberg.zip.\n",
            "[nltk_data]    | Downloading package ieer to /root/nltk_data...\n",
            "[nltk_data]    |   Unzipping corpora/ieer.zip.\n",
            "[nltk_data]    | Downloading package inaugural to /root/nltk_data...\n",
            "[nltk_data]    |   Unzipping corpora/inaugural.zip.\n",
            "[nltk_data]    | Downloading package movie_reviews to\n",
            "[nltk_data]    |     /root/nltk_data...\n",
            "[nltk_data]    |   Unzipping corpora/movie_reviews.zip.\n",
            "[nltk_data]    | Downloading package nps_chat to /root/nltk_data...\n",
            "[nltk_data]    |   Unzipping corpora/nps_chat.zip.\n",
            "[nltk_data]    | Downloading package names to /root/nltk_data...\n",
            "[nltk_data]    |   Unzipping corpora/names.zip.\n",
            "[nltk_data]    | Downloading package ppattach to /root/nltk_data...\n",
            "[nltk_data]    |   Unzipping corpora/ppattach.zip.\n",
            "[nltk_data]    | Downloading package reuters to /root/nltk_data...\n",
            "[nltk_data]    | Downloading package senseval to /root/nltk_data...\n",
            "[nltk_data]    |   Unzipping corpora/senseval.zip.\n",
            "[nltk_data]    | Downloading package state_union to /root/nltk_data...\n",
            "[nltk_data]    |   Unzipping corpora/state_union.zip.\n",
            "[nltk_data]    | Downloading package stopwords to /root/nltk_data...\n",
            "[nltk_data]    |   Unzipping corpora/stopwords.zip.\n",
            "[nltk_data]    | Downloading package swadesh to /root/nltk_data...\n",
            "[nltk_data]    |   Unzipping corpora/swadesh.zip.\n",
            "[nltk_data]    | Downloading package timit to /root/nltk_data...\n",
            "[nltk_data]    |   Unzipping corpora/timit.zip.\n",
            "[nltk_data]    | Downloading package treebank to /root/nltk_data...\n",
            "[nltk_data]    |   Unzipping corpora/treebank.zip.\n",
            "[nltk_data]    | Downloading package toolbox to /root/nltk_data...\n",
            "[nltk_data]    |   Unzipping corpora/toolbox.zip.\n",
            "[nltk_data]    | Downloading package udhr to /root/nltk_data...\n",
            "[nltk_data]    |   Unzipping corpora/udhr.zip.\n",
            "[nltk_data]    | Downloading package udhr2 to /root/nltk_data...\n",
            "[nltk_data]    |   Unzipping corpora/udhr2.zip.\n",
            "[nltk_data]    | Downloading package unicode_samples to\n",
            "[nltk_data]    |     /root/nltk_data...\n",
            "[nltk_data]    |   Unzipping corpora/unicode_samples.zip.\n",
            "[nltk_data]    | Downloading package webtext to /root/nltk_data...\n",
            "[nltk_data]    |   Unzipping corpora/webtext.zip.\n",
            "[nltk_data]    | Downloading package wordnet to /root/nltk_data...\n",
            "[nltk_data]    |   Unzipping corpora/wordnet.zip.\n",
            "[nltk_data]    | Downloading package wordnet_ic to /root/nltk_data...\n",
            "[nltk_data]    |   Unzipping corpora/wordnet_ic.zip.\n",
            "[nltk_data]    | Downloading package words to /root/nltk_data...\n",
            "[nltk_data]    |   Unzipping corpora/words.zip.\n",
            "[nltk_data]    | Downloading package maxent_treebank_pos_tagger to\n",
            "[nltk_data]    |     /root/nltk_data...\n",
            "[nltk_data]    |   Unzipping taggers/maxent_treebank_pos_tagger.zip.\n",
            "[nltk_data]    | Downloading package maxent_ne_chunker to\n",
            "[nltk_data]    |     /root/nltk_data...\n",
            "[nltk_data]    |   Unzipping chunkers/maxent_ne_chunker.zip.\n",
            "[nltk_data]    | Downloading package universal_tagset to\n",
            "[nltk_data]    |     /root/nltk_data...\n",
            "[nltk_data]    |   Unzipping taggers/universal_tagset.zip.\n",
            "[nltk_data]    | Downloading package punkt to /root/nltk_data...\n",
            "[nltk_data]    |   Unzipping tokenizers/punkt.zip.\n",
            "[nltk_data]    | Downloading package book_grammars to\n",
            "[nltk_data]    |     /root/nltk_data...\n",
            "[nltk_data]    |   Unzipping grammars/book_grammars.zip.\n",
            "[nltk_data]    | Downloading package city_database to\n",
            "[nltk_data]    |     /root/nltk_data...\n",
            "[nltk_data]    |   Unzipping corpora/city_database.zip.\n",
            "[nltk_data]    | Downloading package tagsets to /root/nltk_data...\n",
            "[nltk_data]    |   Unzipping help/tagsets.zip.\n",
            "[nltk_data]    | Downloading package panlex_swadesh to\n",
            "[nltk_data]    |     /root/nltk_data...\n",
            "[nltk_data]    | Downloading package averaged_perceptron_tagger to\n",
            "[nltk_data]    |     /root/nltk_data...\n",
            "[nltk_data]    |   Unzipping taggers/averaged_perceptron_tagger.zip.\n",
            "[nltk_data]    | \n",
            "[nltk_data]  Done downloading collection book\n",
            "[nltk_data] Downloading package punkt to /root/nltk_data...\n",
            "[nltk_data]   Package punkt is already up-to-date!\n",
            "[nltk_data] Downloading package stopwords to /root/nltk_data...\n",
            "[nltk_data]   Package stopwords is already up-to-date!\n",
            "[nltk_data] Downloading package gutenberg to /root/nltk_data...\n",
            "[nltk_data]   Package gutenberg is already up-to-date!\n",
            "[nltk_data] Downloading package words to /root/nltk_data...\n",
            "[nltk_data]   Package words is already up-to-date!\n",
            "*** Introductory Examples for the NLTK Book ***\n",
            "Loading text1, ..., text9 and sent1, ..., sent9\n",
            "Type the name of the text or sentence to view it.\n",
            "Type: 'texts()' or 'sents()' to list the materials.\n",
            "text1: Moby Dick by Herman Melville 1851\n",
            "text2: Sense and Sensibility by Jane Austen 1811\n",
            "text3: The Book of Genesis\n",
            "text4: Inaugural Address Corpus\n",
            "text5: Chat Corpus\n",
            "text6: Monty Python and the Holy Grail\n",
            "text7: Wall Street Journal\n",
            "text8: Personals Corpus\n",
            "text9: The Man Who Was Thursday by G . K . Chesterton 1908\n"
          ],
          "name": "stdout"
        }
      ]
    },
    {
      "cell_type": "code",
      "metadata": {
        "colab": {
          "base_uri": "https://localhost:8080/"
        },
        "id": "c1q5hsaeDVGw",
        "outputId": "2eb3f17f-28fe-4c8a-d6ce-d6510bfd326e"
      },
      "source": [
        "from google.colab import drive\n",
        "drive.mount('/content/drive')\n",
        "%cd /content/drive/MyDrive/CSW4020"
      ],
      "execution_count": null,
      "outputs": [
        {
          "output_type": "stream",
          "text": [
            "Mounted at /content/drive\n",
            "/content/drive/MyDrive/CSW4020\n"
          ],
          "name": "stdout"
        }
      ]
    },
    {
      "cell_type": "markdown",
      "metadata": {
        "id": "jgVDWVgOX6-C"
      },
      "source": [
        "#정보처리및자연어처리 1차과제\n",
        "> 20161482 박준용"
      ]
    },
    {
      "cell_type": "markdown",
      "metadata": {
        "id": "U25Wk4VuXaVr"
      },
      "source": [
        "##1번: 배점 1점\n",
        "\n",
        "현재 작업 폴더 밑 Q1 폴더의 16개 파일을 불러와서 다음의 결과를 얻을 수 있도록 변수 a를 있도록 한 줄 코드로 만드시오. (주의: categories의 출력값을 Q1 폴더 파일명으로부터 추출해야 함.)"
      ]
    },
    {
      "cell_type": "code",
      "metadata": {
        "id": "L00M-k7sUOXk"
      },
      "source": [
        "# 1번\n",
        "a = CategorizedPlaintextCorpusReader('./Q1','.*', cat_pattern='\\D+[a-z](.+)[.]') "
      ],
      "execution_count": null,
      "outputs": []
    },
    {
      "cell_type": "code",
      "metadata": {
        "colab": {
          "base_uri": "https://localhost:8080/"
        },
        "id": "8XvoH2kNI5_r",
        "outputId": "7bcc0f60-e2bd-47a4-8e7d-8106e1a39c02"
      },
      "source": [
        "a.categories()"
      ],
      "execution_count": null,
      "outputs": [
        {
          "output_type": "execute_result",
          "data": {
            "text/plain": [
              "['HUMANITIES', 'NATSCIENCE', 'SOCSCIENCE', 'TECH']"
            ]
          },
          "metadata": {
            "tags": []
          },
          "execution_count": 4
        }
      ]
    },
    {
      "cell_type": "code",
      "metadata": {
        "colab": {
          "base_uri": "https://localhost:8080/"
        },
        "id": "k-x6mVcNI8Zz",
        "outputId": "6eaf262e-b371-404e-8b88-a43971977dfd"
      },
      "source": [
        "len(a.fileids())"
      ],
      "execution_count": null,
      "outputs": [
        {
          "output_type": "execute_result",
          "data": {
            "text/plain": [
              "16"
            ]
          },
          "metadata": {
            "tags": []
          },
          "execution_count": 5
        }
      ]
    },
    {
      "cell_type": "code",
      "metadata": {
        "colab": {
          "base_uri": "https://localhost:8080/"
        },
        "id": "yGWPZv_BI-lq",
        "outputId": "8319c8ae-51da-4740-9718-ac0f2d4b7c66"
      },
      "source": [
        "print(a.fileids())"
      ],
      "execution_count": null,
      "outputs": [
        {
          "output_type": "stream",
          "text": [
            "['CANacademicHUMANITIES.txt', 'CANacademicNATSCIENCE.txt', 'CANacademicSOCSCIENCE.txt', 'CANacademicTECH.txt', 'CANpopularHUMANITIES.txt', 'CANpopularNATSCIENCE.txt', 'CANpopularSOCSCIENCE.txt', 'CANpopularTECH.txt', 'NZacademicHUMANITIES.txt', 'NZacademicNATSCIENCE.txt', 'NZacademicSOCSCIENCE.txt', 'NZacademicTECH.txt', 'NZpopularHUMANITIES.txt', 'NZpopularNATSCIENCE.txt', 'NZpopularSOCSCIENCE.txt', 'NZpopularTECH.txt']\n"
          ],
          "name": "stdout"
        }
      ]
    },
    {
      "cell_type": "markdown",
      "metadata": {
        "id": "cVRzf5O0Xqnb"
      },
      "source": [
        "##2번: 배점 1점\n",
        "\n",
        "현재 작업 폴더 밑 Q2 폴더의 4개 파일을 불러와서 다음의 결과를 얻을 수 있도록 변수 b를 구성하도록 한 줄 코드로 만드시오. "
      ]
    },
    {
      "cell_type": "code",
      "metadata": {
        "id": "_IM_deFNTayE"
      },
      "source": [
        "# 2번\n",
        "b = PlaintextCorpusReader('./Q2','.*') "
      ],
      "execution_count": null,
      "outputs": []
    },
    {
      "cell_type": "code",
      "metadata": {
        "colab": {
          "base_uri": "https://localhost:8080/"
        },
        "id": "mRUcxpfGW6Lx",
        "outputId": "8984c6eb-9779-4154-b0f0-e719a27d2000"
      },
      "source": [
        "b.fileids()"
      ],
      "execution_count": null,
      "outputs": [
        {
          "output_type": "execute_result",
          "data": {
            "text/plain": [
              "['HUMANITIES.txt', 'NATSCIENCE.txt', 'SOCSCIENCE.txt', 'TECH.txt']"
            ]
          },
          "metadata": {
            "tags": []
          },
          "execution_count": 8
        }
      ]
    },
    {
      "cell_type": "markdown",
      "metadata": {
        "id": "IxavGw5nYifT"
      },
      "source": [
        "##3번: 배점 2점\n",
        "\n",
        "2번의 변수 b와 for 구문을 이용하여 다음을 수행(코드라인 수 제한 없음) \n",
        "\n",
        "* 파일별 문자수 = 공백문자 및 문장부호 제외 문자수 \n",
        "* 파일별 어휘수 = 알파벳 또는 숫자문자 하나 이상 포함 어휘수 \n",
        "* 아래의 서식을 참고하여 함수 print를 이용하여 출력"
      ]
    },
    {
      "cell_type": "code",
      "metadata": {
        "colab": {
          "base_uri": "https://localhost:8080/"
        },
        "id": "JZRPd_LjZvKa",
        "outputId": "28dd8f6e-e357-491b-8ed8-9668092d1f23"
      },
      "source": [
        "# 3번\n",
        "for fileid in b.fileids():\n",
        "    num_chars = len(re.sub('[^a-z0-9]','',b.raw(fileid), flags=re.I))\n",
        "    num_words = len([w for w in b.words(fileid) if re.search('[a-z0-9]',w, flags=re.I)])\n",
        "    print('파일명: {0:<15} 문자수: {1:<10,} 어휘수: {2:<10,}'.format(fileid, num_chars, num_words)) "
      ],
      "execution_count": null,
      "outputs": [
        {
          "output_type": "stream",
          "text": [
            "파일명: HUMANITIES.txt  문자수: 530,867    어휘수: 110,177   \n",
            "파일명: NATSCIENCE.txt  문자수: 538,039    어휘수: 110,008   \n",
            "파일명: SOCSCIENCE.txt  문자수: 566,873    어휘수: 115,451   \n",
            "파일명: TECH.txt        문자수: 530,235    어휘수: 106,654   \n"
          ],
          "name": "stdout"
        }
      ]
    },
    {
      "cell_type": "markdown",
      "metadata": {
        "id": "o712OSYbeFeZ"
      },
      "source": [
        "## 4번: 배점 2점\n",
        "2번의 변수 b를 이용하여 빈도 3,000 이상의 문장부호를 빈도 내림차순으로 정렬하여 다음과 같은 변수 c 를 출력 하는 한 줄 코드를 작성하시오."
      ]
    },
    {
      "cell_type": "code",
      "metadata": {
        "id": "wbausUOBskX_"
      },
      "source": [
        "# 4번\n",
        "c = sorted([w for w in nltk.FreqDist(b.raw()).items() if w[0].isalpha()==False and w[0].isdigit()==False and w[0].isspace()==False and nltk.FreqDist(b.raw())[w[0]] > 3000], key=lambda tup:(-tup[1], tup[0]))"
      ],
      "execution_count": null,
      "outputs": []
    },
    {
      "cell_type": "code",
      "metadata": {
        "id": "RPOqtC2xW84C",
        "colab": {
          "base_uri": "https://localhost:8080/"
        },
        "outputId": "c6ff4d1e-e592-43dc-97bc-113da8063ed9"
      },
      "source": [
        "len(c)"
      ],
      "execution_count": null,
      "outputs": [
        {
          "output_type": "execute_result",
          "data": {
            "text/plain": [
              "7"
            ]
          },
          "metadata": {
            "tags": []
          },
          "execution_count": 11
        }
      ]
    },
    {
      "cell_type": "code",
      "metadata": {
        "colab": {
          "base_uri": "https://localhost:8080/"
        },
        "id": "sfygOhYTw7-V",
        "outputId": "ace4bb37-1103-43ad-a89a-6d2ebdf122fd"
      },
      "source": [
        "print(c)"
      ],
      "execution_count": null,
      "outputs": [
        {
          "output_type": "stream",
          "text": [
            "[(',', 22634), ('.', 21953), ('-', 6226), (\"'\", 4888), (')', 3703), ('(', 3694), ('\"', 3095)]\n"
          ],
          "name": "stdout"
        }
      ]
    },
    {
      "cell_type": "markdown",
      "metadata": {
        "id": "CyLM54Tjm5Xc"
      },
      "source": [
        "##5번: 배점 2점\n",
        "\n",
        "2번의 변수 b, 4번의 변수 c, nltk의 tabulate 함수를 이용하여 다음과 같은 파일별 변수 c의 문장부호 빈도교차표를 출력하기 위한 코드를 제시하시오.(코드 라인 수 제한 없음)"
      ]
    },
    {
      "cell_type": "code",
      "metadata": {
        "colab": {
          "base_uri": "https://localhost:8080/"
        },
        "id": "McyvVFfPhyX1",
        "outputId": "6798cd39-d049-4a7b-87b1-0cad92dd2aef"
      },
      "source": [
        "# 5번\n",
        "cfd = nltk.ConditionalFreqDist((genre,word)\n",
        "for genre in b.fileids()\n",
        "for word in b.raw(genre))\n",
        "cfd.tabulate(conditions=b.fileids(), samples=[c[i][0] for i in range(len(c))])"
      ],
      "execution_count": null,
      "outputs": [
        {
          "output_type": "stream",
          "text": [
            "                  ,    .    -    '    )    (    \" \n",
            "HUMANITIES.txt 5770 5087 1222 1640  584  584  877 \n",
            "NATSCIENCE.txt 6016 6091 1567  674 1515 1515  427 \n",
            "SOCSCIENCE.txt 6078 5674 1706 1845  701  701 1042 \n",
            "      TECH.txt 4770 5101 1731  729  903  894  749 \n"
          ],
          "name": "stdout"
        }
      ]
    },
    {
      "cell_type": "markdown",
      "metadata": {
        "id": "t2l5mwjS7ocR"
      },
      "source": [
        "## 6번: 배점 2점\n",
        "2번의 변수 b와 for 구문, nltk similar을 이용하여 다음을 수행(코드라인 수 제한 없음) \n",
        "* 파일별 ‘evidence’와 분포 맥락이 어휘 목록을 추출 \n",
        "* 아래와 같이 파일명을 print 함수를 이용하여 출력한 후 nltk similar를 이용하여 출력 "
      ]
    },
    {
      "cell_type": "code",
      "metadata": {
        "colab": {
          "base_uri": "https://localhost:8080/"
        },
        "id": "gEeQZyC57mjI",
        "outputId": "db88b01c-ef6e-466a-f2ec-be27148a7bc6"
      },
      "source": [
        "# 6번\n",
        "for fileid in b.fileids():\n",
        "    print('{0}'.format(fileid))\n",
        "    nltk.Text(b.words(fileid)).similar('evidence') "
      ],
      "execution_count": null,
      "outputs": [
        {
          "output_type": "stream",
          "text": [
            "HUMANITIES.txt\n",
            "one those time land life workshops islands flooding way that other\n",
            "death nature signs some them works loss most definition\n",
            "NATSCIENCE.txt\n",
            "way need two implications absence so difficult argue year application\n",
            "data same form soil surface zone work association material consisting\n",
            "SOCSCIENCE.txt\n",
            "one time part members which areas aware much discussion method crucial\n",
            "discounting history the of measure and over another not\n",
            "TECH.txt\n",
            "is most possible selection use all those some but uncertainty into one\n",
            "i follows assumed be which mentioned many such\n"
          ],
          "name": "stdout"
        }
      ]
    },
    {
      "cell_type": "markdown",
      "metadata": {
        "id": "s29KQSlCR218"
      },
      "source": [
        "# 2019년 중간고사\n"
      ]
    },
    {
      "cell_type": "code",
      "metadata": {
        "colab": {
          "base_uri": "https://localhost:8080/"
        },
        "id": "HFRLfMkjCvH4",
        "outputId": "7454d253-cd4d-4b0c-b26b-edfe6f275bdb"
      },
      "source": [
        "from nltk.corpus.reader.plaintext import CategorizedPlaintextCorpusReader\n",
        "path = './11_data'\n",
        "my = CategorizedPlaintextCorpusReader(path, '.*', cat_pattern='(\\w).+')\n",
        "my.fileids()"
      ],
      "execution_count": null,
      "outputs": [
        {
          "output_type": "execute_result",
          "data": {
            "text/plain": [
              "['hu01.txt',\n",
              " 'hu02.txt',\n",
              " 'hu03.txt',\n",
              " 'hu04.txt',\n",
              " 'na01.txt',\n",
              " 'na02.txt',\n",
              " 'na03.txt',\n",
              " 'na04.txt']"
            ]
          },
          "metadata": {
            "tags": []
          },
          "execution_count": 15
        }
      ]
    },
    {
      "cell_type": "code",
      "metadata": {
        "colab": {
          "base_uri": "https://localhost:8080/"
        },
        "id": "9txOZ5zGDTmR",
        "outputId": "ef41a555-13d2-4469-f8e3-e9ed84d10db6"
      },
      "source": [
        "my.categories()"
      ],
      "execution_count": null,
      "outputs": [
        {
          "output_type": "execute_result",
          "data": {
            "text/plain": [
              "['h', 'n']"
            ]
          },
          "metadata": {
            "tags": []
          },
          "execution_count": 16
        }
      ]
    },
    {
      "cell_type": "code",
      "metadata": {
        "colab": {
          "base_uri": "https://localhost:8080/"
        },
        "id": "6d0-BXjHEyDK",
        "outputId": "a4c65cb3-e590-4c42-fd7c-6156847343ad"
      },
      "source": [
        "a = my.sents('na01.txt')[-3:-1]\n",
        "a"
      ],
      "execution_count": null,
      "outputs": [
        {
          "output_type": "execute_result",
          "data": {
            "text/plain": [
              "[['The',\n",
              "  '10',\n",
              "  '.',\n",
              "  '3',\n",
              "  '-',\n",
              "  'cm',\n",
              "  'observation',\n",
              "  'of',\n",
              "  'Sloanaker',\n",
              "  'was',\n",
              "  'made',\n",
              "  'on',\n",
              "  'May',\n",
              "  '20',\n",
              "  ',',\n",
              "  '1958',\n",
              "  ',',\n",
              "  'using',\n",
              "  'the',\n",
              "  '84',\n",
              "  '-',\n",
              "  'foot',\n",
              "  'reflector',\n",
              "  'at',\n",
              "  'the',\n",
              "  'Maryland',\n",
              "  'Point',\n",
              "  'Observatory',\n",
              "  'of',\n",
              "  'the',\n",
              "  'U',\n",
              "  '.',\n",
              "  'S',\n",
              "  '.',\n",
              "  'Naval',\n",
              "  'Research',\n",
              "  'Laboratory',\n",
              "  '.'],\n",
              " ['The', 'age', 'of', 'the', 'moon', 'was', 'about', '2', 'days', '.']]"
            ]
          },
          "metadata": {
            "tags": []
          },
          "execution_count": 17
        }
      ]
    },
    {
      "cell_type": "code",
      "metadata": {
        "colab": {
          "base_uri": "https://localhost:8080/"
        },
        "id": "ChqLB8ocDiIJ",
        "outputId": "69474c63-ca71-4409-b271-5a59ca50f95d"
      },
      "source": [
        "b = [j for i in a for j in i if j.isalpha() is True]\n",
        "len(b)"
      ],
      "execution_count": null,
      "outputs": [
        {
          "output_type": "execute_result",
          "data": {
            "text/plain": [
              "33"
            ]
          },
          "metadata": {
            "tags": []
          },
          "execution_count": 18
        }
      ]
    },
    {
      "cell_type": "code",
      "metadata": {
        "colab": {
          "base_uri": "https://localhost:8080/"
        },
        "id": "hKLGA8ruE-bi",
        "outputId": "37fa5497-3e53-431a-dd7a-8ebae5c8b06f"
      },
      "source": [
        "c = [w.lower() for w in b]\n",
        "len(c)"
      ],
      "execution_count": null,
      "outputs": [
        {
          "output_type": "execute_result",
          "data": {
            "text/plain": [
              "33"
            ]
          },
          "metadata": {
            "tags": []
          },
          "execution_count": 19
        }
      ]
    },
    {
      "cell_type": "code",
      "metadata": {
        "colab": {
          "base_uri": "https://localhost:8080/"
        },
        "id": "4WjilpxoFvOr",
        "outputId": "8c35ba66-49ab-4094-a6f9-bec177f2337a"
      },
      "source": [
        "sorted(set(c))"
      ],
      "execution_count": null,
      "outputs": [
        {
          "output_type": "execute_result",
          "data": {
            "text/plain": [
              "['about',\n",
              " 'age',\n",
              " 'at',\n",
              " 'cm',\n",
              " 'days',\n",
              " 'foot',\n",
              " 'laboratory',\n",
              " 'made',\n",
              " 'maryland',\n",
              " 'may',\n",
              " 'moon',\n",
              " 'naval',\n",
              " 'observation',\n",
              " 'observatory',\n",
              " 'of',\n",
              " 'on',\n",
              " 'point',\n",
              " 'reflector',\n",
              " 'research',\n",
              " 's',\n",
              " 'sloanaker',\n",
              " 'the',\n",
              " 'u',\n",
              " 'using',\n",
              " 'was']"
            ]
          },
          "metadata": {
            "tags": []
          },
          "execution_count": 20
        }
      ]
    },
    {
      "cell_type": "code",
      "metadata": {
        "colab": {
          "base_uri": "https://localhost:8080/"
        },
        "id": "bIT0iuTtGTIa",
        "outputId": "28eec678-055a-4998-e002-25f3c7935f86"
      },
      "source": [
        "d = nltk.FreqDist(c).most_common(25)\n",
        "d"
      ],
      "execution_count": null,
      "outputs": [
        {
          "output_type": "execute_result",
          "data": {
            "text/plain": [
              "[('the', 6),\n",
              " ('of', 3),\n",
              " ('was', 2),\n",
              " ('cm', 1),\n",
              " ('observation', 1),\n",
              " ('sloanaker', 1),\n",
              " ('made', 1),\n",
              " ('on', 1),\n",
              " ('may', 1),\n",
              " ('using', 1),\n",
              " ('foot', 1),\n",
              " ('reflector', 1),\n",
              " ('at', 1),\n",
              " ('maryland', 1),\n",
              " ('point', 1),\n",
              " ('observatory', 1),\n",
              " ('u', 1),\n",
              " ('s', 1),\n",
              " ('naval', 1),\n",
              " ('research', 1),\n",
              " ('laboratory', 1),\n",
              " ('age', 1),\n",
              " ('moon', 1),\n",
              " ('about', 1),\n",
              " ('days', 1)]"
            ]
          },
          "metadata": {
            "tags": []
          },
          "execution_count": 21
        }
      ]
    },
    {
      "cell_type": "code",
      "metadata": {
        "colab": {
          "base_uri": "https://localhost:8080/"
        },
        "id": "tqah1tXaGeNL",
        "outputId": "dd285a30-96be-4d85-b4a5-82473dc2726b"
      },
      "source": [
        "sum(i[1] for i in d)"
      ],
      "execution_count": null,
      "outputs": [
        {
          "output_type": "execute_result",
          "data": {
            "text/plain": [
              "33"
            ]
          },
          "metadata": {
            "tags": []
          },
          "execution_count": 22
        }
      ]
    },
    {
      "cell_type": "code",
      "metadata": {
        "id": "SxcdjSO6H3pw"
      },
      "source": [
        "e = ' '.join([' '.join(i) for i in a])"
      ],
      "execution_count": null,
      "outputs": []
    },
    {
      "cell_type": "code",
      "metadata": {
        "colab": {
          "base_uri": "https://localhost:8080/"
        },
        "id": "9TDYtIIhLHQ1",
        "outputId": "ae5a10e5-6f85-4388-bf12-a630b257000e"
      },
      "source": [
        "len(e)"
      ],
      "execution_count": null,
      "outputs": [
        {
          "output_type": "execute_result",
          "data": {
            "text/plain": [
              "214"
            ]
          },
          "metadata": {
            "tags": []
          },
          "execution_count": 24
        }
      ]
    },
    {
      "cell_type": "code",
      "metadata": {
        "colab": {
          "base_uri": "https://localhost:8080/"
        },
        "id": "TH6H6RSUJSzS",
        "outputId": "77d3e39c-973a-4f18-9f45-df3668ea6e8a"
      },
      "source": [
        "e.split()"
      ],
      "execution_count": null,
      "outputs": [
        {
          "output_type": "execute_result",
          "data": {
            "text/plain": [
              "['The',\n",
              " '10',\n",
              " '.',\n",
              " '3',\n",
              " '-',\n",
              " 'cm',\n",
              " 'observation',\n",
              " 'of',\n",
              " 'Sloanaker',\n",
              " 'was',\n",
              " 'made',\n",
              " 'on',\n",
              " 'May',\n",
              " '20',\n",
              " ',',\n",
              " '1958',\n",
              " ',',\n",
              " 'using',\n",
              " 'the',\n",
              " '84',\n",
              " '-',\n",
              " 'foot',\n",
              " 'reflector',\n",
              " 'at',\n",
              " 'the',\n",
              " 'Maryland',\n",
              " 'Point',\n",
              " 'Observatory',\n",
              " 'of',\n",
              " 'the',\n",
              " 'U',\n",
              " '.',\n",
              " 'S',\n",
              " '.',\n",
              " 'Naval',\n",
              " 'Research',\n",
              " 'Laboratory',\n",
              " '.',\n",
              " 'The',\n",
              " 'age',\n",
              " 'of',\n",
              " 'the',\n",
              " 'moon',\n",
              " 'was',\n",
              " 'about',\n",
              " '2',\n",
              " 'days',\n",
              " '.']"
            ]
          },
          "metadata": {
            "tags": []
          },
          "execution_count": 25
        }
      ]
    },
    {
      "cell_type": "code",
      "metadata": {
        "colab": {
          "base_uri": "https://localhost:8080/"
        },
        "id": "1in8dg9mJbQM",
        "outputId": "ceba102b-cb60-45ec-f5ac-e5fe8fc75246"
      },
      "source": [
        "[i for i in e.split() if i.isalpha() is True]"
      ],
      "execution_count": null,
      "outputs": [
        {
          "output_type": "execute_result",
          "data": {
            "text/plain": [
              "['The',\n",
              " 'cm',\n",
              " 'observation',\n",
              " 'of',\n",
              " 'Sloanaker',\n",
              " 'was',\n",
              " 'made',\n",
              " 'on',\n",
              " 'May',\n",
              " 'using',\n",
              " 'the',\n",
              " 'foot',\n",
              " 'reflector',\n",
              " 'at',\n",
              " 'the',\n",
              " 'Maryland',\n",
              " 'Point',\n",
              " 'Observatory',\n",
              " 'of',\n",
              " 'the',\n",
              " 'U',\n",
              " 'S',\n",
              " 'Naval',\n",
              " 'Research',\n",
              " 'Laboratory',\n",
              " 'The',\n",
              " 'age',\n",
              " 'of',\n",
              " 'the',\n",
              " 'moon',\n",
              " 'was',\n",
              " 'about',\n",
              " 'days']"
            ]
          },
          "metadata": {
            "tags": []
          },
          "execution_count": 26
        }
      ]
    },
    {
      "cell_type": "code",
      "metadata": {
        "colab": {
          "base_uri": "https://localhost:8080/"
        },
        "id": "Pe1YQNToPozt",
        "outputId": "e977bb52-db66-4f37-8ee7-d2d7fcdbb434"
      },
      "source": [
        "[i for i in e.split() if i.isalpha() is False and i.isdigit() is False]"
      ],
      "execution_count": null,
      "outputs": [
        {
          "output_type": "execute_result",
          "data": {
            "text/plain": [
              "['.', '-', ',', ',', '-', '.', '.', '.', '.']"
            ]
          },
          "metadata": {
            "tags": []
          },
          "execution_count": 27
        }
      ]
    },
    {
      "cell_type": "code",
      "metadata": {
        "colab": {
          "base_uri": "https://localhost:8080/"
        },
        "id": "xfDczNA3P1xV",
        "outputId": "2aaf3358-f520-4d18-d23e-9a21d8fd4c51"
      },
      "source": [
        "tuple([i for i in e.split(' - ')[:2]])"
      ],
      "execution_count": null,
      "outputs": [
        {
          "output_type": "execute_result",
          "data": {
            "text/plain": [
              "('The 10 . 3',\n",
              " 'cm observation of Sloanaker was made on May 20 , 1958 , using the 84')"
            ]
          },
          "metadata": {
            "tags": []
          },
          "execution_count": 28
        }
      ]
    },
    {
      "cell_type": "markdown",
      "metadata": {
        "id": "yeFiqrM5R_aM"
      },
      "source": [
        "# 연습문제\n"
      ]
    },
    {
      "cell_type": "markdown",
      "metadata": {
        "id": "l7fAkU7yyBSz"
      },
      "source": [
        "##Python기초\n",
        "---"
      ]
    },
    {
      "cell_type": "code",
      "metadata": {
        "colab": {
          "base_uri": "https://localhost:8080/"
        },
        "id": "J-Mu-enuR_MV",
        "outputId": "17db8a46-3a19-4f2e-eaef-778f88766ce5"
      },
      "source": [
        "a = '\\nabc\\nabc\\nabc'\n",
        "b = a.splitlines(True)[:2] #답안\n",
        "b"
      ],
      "execution_count": null,
      "outputs": [
        {
          "output_type": "execute_result",
          "data": {
            "text/plain": [
              "['\\n', 'abc\\n']"
            ]
          },
          "metadata": {
            "tags": []
          },
          "execution_count": 29
        }
      ]
    },
    {
      "cell_type": "code",
      "metadata": {
        "colab": {
          "base_uri": "https://localhost:8080/"
        },
        "id": "hFVdOBHvTY_O",
        "outputId": "f6bbc10b-8e0b-403a-ae09-57d832d12e13"
      },
      "source": [
        "a = 'A:apple'\n",
        "b = a.replace(':','*:*')\n",
        "b"
      ],
      "execution_count": null,
      "outputs": [
        {
          "output_type": "execute_result",
          "data": {
            "application/vnd.google.colaboratory.intrinsic+json": {
              "type": "string"
            },
            "text/plain": [
              "'A*:*apple'"
            ]
          },
          "metadata": {
            "tags": []
          },
          "execution_count": 30
        }
      ]
    },
    {
      "cell_type": "code",
      "metadata": {
        "colab": {
          "base_uri": "https://localhost:8080/"
        },
        "id": "KH84KF5rT5hF",
        "outputId": "757c726d-1ebe-4276-e9dc-5895e1e2be5f"
      },
      "source": [
        "a = 'A:apple'\n",
        "b = a.title().split(':')\n",
        "b"
      ],
      "execution_count": null,
      "outputs": [
        {
          "output_type": "execute_result",
          "data": {
            "text/plain": [
              "['A', 'Apple']"
            ]
          },
          "metadata": {
            "tags": []
          },
          "execution_count": 31
        }
      ]
    },
    {
      "cell_type": "code",
      "metadata": {
        "colab": {
          "base_uri": "https://localhost:8080/"
        },
        "id": "WNOp3dyzT8m2",
        "outputId": "2a48bbd2-5f83-4629-df8d-18c03626cfec"
      },
      "source": [
        "a = \"I am not good at programming.\"\n",
        "b = [i for i in a]\n",
        "print(b)"
      ],
      "execution_count": null,
      "outputs": [
        {
          "output_type": "stream",
          "text": [
            "['I', ' ', 'a', 'm', ' ', 'n', 'o', 't', ' ', 'g', 'o', 'o', 'd', ' ', 'a', 't', ' ', 'p', 'r', 'o', 'g', 'r', 'a', 'm', 'm', 'i', 'n', 'g', '.']\n"
          ],
          "name": "stdout"
        }
      ]
    },
    {
      "cell_type": "code",
      "metadata": {
        "colab": {
          "base_uri": "https://localhost:8080/"
        },
        "id": "h2hygBSXVMDG",
        "outputId": "be2c1e28-4c1a-4fd3-f3e1-8686e2582ab6"
      },
      "source": [
        "a = \"I am not good at programming.\"\n",
        "b = {i for i in a}\n",
        "b"
      ],
      "execution_count": null,
      "outputs": [
        {
          "output_type": "execute_result",
          "data": {
            "text/plain": [
              "{' ', '.', 'I', 'a', 'd', 'g', 'i', 'm', 'n', 'o', 'p', 'r', 't'}"
            ]
          },
          "metadata": {
            "tags": []
          },
          "execution_count": 33
        }
      ]
    },
    {
      "cell_type": "code",
      "metadata": {
        "colab": {
          "base_uri": "https://localhost:8080/"
        },
        "id": "WuwTXrbiVQle",
        "outputId": "0b8a0f31-5447-4bc8-8c8e-9d105bb8247e"
      },
      "source": [
        "a = \"I am not good at programming.\"\n",
        "b = {}\n",
        "for i in a:\n",
        "    b[i]=a.count(i)\n",
        "print(b)"
      ],
      "execution_count": null,
      "outputs": [
        {
          "output_type": "stream",
          "text": [
            "{'I': 1, ' ': 5, 'a': 3, 'm': 3, 'n': 2, 'o': 4, 't': 2, 'g': 3, 'd': 1, 'p': 1, 'r': 2, 'i': 1, '.': 1}\n"
          ],
          "name": "stdout"
        }
      ]
    },
    {
      "cell_type": "code",
      "metadata": {
        "colab": {
          "base_uri": "https://localhost:8080/"
        },
        "id": "6U8E6phbWNPZ",
        "outputId": "2a6f6eb9-aceb-42f6-cb41-81c55323b736"
      },
      "source": [
        "c = list(b.items())\n",
        "print(c)"
      ],
      "execution_count": null,
      "outputs": [
        {
          "output_type": "stream",
          "text": [
            "[('I', 1), (' ', 5), ('a', 3), ('m', 3), ('n', 2), ('o', 4), ('t', 2), ('g', 3), ('d', 1), ('p', 1), ('r', 2), ('i', 1), ('.', 1)]\n"
          ],
          "name": "stdout"
        }
      ]
    },
    {
      "cell_type": "code",
      "metadata": {
        "colab": {
          "base_uri": "https://localhost:8080/"
        },
        "id": "ZqdJP262XbBI",
        "outputId": "d09ae80b-9935-40dc-ed13-6c6c50c58b51"
      },
      "source": [
        "Female = ['Susie','Eva','Stephanie']\n",
        "Male = ['Tom', 'Billy', 'Jefferson']\n",
        "names = [(x, y) for x in Female for y in Male]\n",
        "names"
      ],
      "execution_count": null,
      "outputs": [
        {
          "output_type": "execute_result",
          "data": {
            "text/plain": [
              "[('Susie', 'Tom'),\n",
              " ('Susie', 'Billy'),\n",
              " ('Susie', 'Jefferson'),\n",
              " ('Eva', 'Tom'),\n",
              " ('Eva', 'Billy'),\n",
              " ('Eva', 'Jefferson'),\n",
              " ('Stephanie', 'Tom'),\n",
              " ('Stephanie', 'Billy'),\n",
              " ('Stephanie', 'Jefferson')]"
            ]
          },
          "metadata": {
            "tags": []
          },
          "execution_count": 36
        }
      ]
    },
    {
      "cell_type": "markdown",
      "metadata": {
        "id": "Rp7wVolBguw_"
      },
      "source": [
        "---"
      ]
    },
    {
      "cell_type": "code",
      "metadata": {
        "colab": {
          "base_uri": "https://localhost:8080/"
        },
        "id": "3Ggq-_a9czvA",
        "outputId": "9cd441cf-6e0b-4912-ad65-3385601093b5"
      },
      "source": [
        "re.match('[0-9a-z\\t\\n]+','3456abc\\t\\n.+?*').group() #3456abc\\t\\n"
      ],
      "execution_count": null,
      "outputs": [
        {
          "output_type": "execute_result",
          "data": {
            "application/vnd.google.colaboratory.intrinsic+json": {
              "type": "string"
            },
            "text/plain": [
              "'3456abc\\t\\n'"
            ]
          },
          "metadata": {
            "tags": []
          },
          "execution_count": 37
        }
      ]
    },
    {
      "cell_type": "code",
      "metadata": {
        "colab": {
          "base_uri": "https://localhost:8080/"
        },
        "id": "_H2l9zFBdsf4",
        "outputId": "0c7b8929-d15d-49b0-d6d8-e1dce840dd47"
      },
      "source": [
        "re.match('[\\w\\s\\S]+','3456abc\\t\\n.+?*').group() #3456abc\\t\\n.+?*"
      ],
      "execution_count": null,
      "outputs": [
        {
          "output_type": "execute_result",
          "data": {
            "application/vnd.google.colaboratory.intrinsic+json": {
              "type": "string"
            },
            "text/plain": [
              "'3456abc\\t\\n.+?*'"
            ]
          },
          "metadata": {
            "tags": []
          },
          "execution_count": 38
        }
      ]
    },
    {
      "cell_type": "code",
      "metadata": {
        "colab": {
          "base_uri": "https://localhost:8080/"
        },
        "id": "GCb5KbFyesnF",
        "outputId": "0b0efc63-84d6-4045-90d2-5962536c024d"
      },
      "source": [
        "re.match('[\\d]+','3456')"
      ],
      "execution_count": null,
      "outputs": [
        {
          "output_type": "execute_result",
          "data": {
            "text/plain": [
              "<re.Match object; span=(0, 4), match='3456'>"
            ]
          },
          "metadata": {
            "tags": []
          },
          "execution_count": 39
        }
      ]
    },
    {
      "cell_type": "code",
      "metadata": {
        "colab": {
          "base_uri": "https://localhost:8080/"
        },
        "id": "ZLJ1w-pPez0W",
        "outputId": "400307eb-4cd9-433f-a797-e7655c26194a"
      },
      "source": [
        "a = '''\n",
        "apple 오렌지(Orange) Cherry\n",
        "토마토(TOMATO) 1/3 kg'''\n",
        "a"
      ],
      "execution_count": null,
      "outputs": [
        {
          "output_type": "execute_result",
          "data": {
            "application/vnd.google.colaboratory.intrinsic+json": {
              "type": "string"
            },
            "text/plain": [
              "'\\napple 오렌지(Orange) Cherry\\n토마토(TOMATO) 1/3 kg'"
            ]
          },
          "metadata": {
            "tags": []
          },
          "execution_count": 40
        }
      ]
    },
    {
      "cell_type": "code",
      "metadata": {
        "colab": {
          "base_uri": "https://localhost:8080/"
        },
        "id": "erphESa8fiHj",
        "outputId": "727d9b44-30b6-4304-946a-493cea3ae4c3"
      },
      "source": [
        "a.splitlines()"
      ],
      "execution_count": null,
      "outputs": [
        {
          "output_type": "execute_result",
          "data": {
            "text/plain": [
              "['', 'apple 오렌지(Orange) Cherry', '토마토(TOMATO) 1/3 kg']"
            ]
          },
          "metadata": {
            "tags": []
          },
          "execution_count": 41
        }
      ]
    },
    {
      "cell_type": "code",
      "metadata": {
        "colab": {
          "base_uri": "https://localhost:8080/"
        },
        "id": "Dwuqj5k5fiUm",
        "outputId": "cb1239e9-dcdd-47ce-d81a-6df46e42541f"
      },
      "source": [
        "a.splitlines(True)"
      ],
      "execution_count": null,
      "outputs": [
        {
          "output_type": "execute_result",
          "data": {
            "text/plain": [
              "['\\n', 'apple 오렌지(Orange) Cherry\\n', '토마토(TOMATO) 1/3 kg']"
            ]
          },
          "metadata": {
            "tags": []
          },
          "execution_count": 42
        }
      ]
    },
    {
      "cell_type": "code",
      "metadata": {
        "colab": {
          "base_uri": "https://localhost:8080/"
        },
        "id": "7XwW_bMtfERX",
        "outputId": "a13c2bbb-13dd-4076-fc97-7d2a5317aa8e"
      },
      "source": [
        "a.partition('\\n')"
      ],
      "execution_count": null,
      "outputs": [
        {
          "output_type": "execute_result",
          "data": {
            "text/plain": [
              "('', '\\n', 'apple 오렌지(Orange) Cherry\\n토마토(TOMATO) 1/3 kg')"
            ]
          },
          "metadata": {
            "tags": []
          },
          "execution_count": 43
        }
      ]
    },
    {
      "cell_type": "code",
      "metadata": {
        "colab": {
          "base_uri": "https://localhost:8080/"
        },
        "id": "DPC7Dt9YfQfP",
        "outputId": "6d6aa098-355d-4100-bc79-656b864059f8"
      },
      "source": [
        "re.match('\\s(.+)\\s',a).groups()"
      ],
      "execution_count": null,
      "outputs": [
        {
          "output_type": "execute_result",
          "data": {
            "text/plain": [
              "('apple 오렌지(Orange) Cherry',)"
            ]
          },
          "metadata": {
            "tags": []
          },
          "execution_count": 44
        }
      ]
    },
    {
      "cell_type": "code",
      "metadata": {
        "colab": {
          "base_uri": "https://localhost:8080/"
        },
        "id": "tFGr9Hk6f2_F",
        "outputId": "a829ffde-9ad9-4049-cb16-1151e66925dd"
      },
      "source": [
        "re.match('\\s(.+)\\s(.+)',a).groups()"
      ],
      "execution_count": null,
      "outputs": [
        {
          "output_type": "execute_result",
          "data": {
            "text/plain": [
              "('apple 오렌지(Orange) Cherry', '토마토(TOMATO) 1/3 kg')"
            ]
          },
          "metadata": {
            "tags": []
          },
          "execution_count": 45
        }
      ]
    },
    {
      "cell_type": "code",
      "metadata": {
        "colab": {
          "base_uri": "https://localhost:8080/"
        },
        "id": "ar0_tqY8gMPI",
        "outputId": "f8ff4a8d-a361-4702-e159-1df6c91f1279"
      },
      "source": [
        "re.match('\\D+[(](.+)[)]\\D+[(](.+)[)]',a).groups()"
      ],
      "execution_count": null,
      "outputs": [
        {
          "output_type": "execute_result",
          "data": {
            "text/plain": [
              "('Orange', 'TOMATO')"
            ]
          },
          "metadata": {
            "tags": []
          },
          "execution_count": 46
        }
      ]
    },
    {
      "cell_type": "code",
      "metadata": {
        "id": "eDcoJ9u5gaKw"
      },
      "source": [
        "a = '''홍길동\\t123456-1234567\n",
        "김영희\\t0123450123456\n",
        "'''"
      ],
      "execution_count": null,
      "outputs": []
    },
    {
      "cell_type": "code",
      "metadata": {
        "colab": {
          "base_uri": "https://localhost:8080/"
        },
        "id": "O2d4QhdPg3TA",
        "outputId": "6ca6810c-037d-48ae-f919-2f1f837de119"
      },
      "source": [
        "re.findall('(\\w.+)\\s+(\\d.+[-]\\d.+)\\s(\\w.+)\\s+(\\d.+)',a)"
      ],
      "execution_count": null,
      "outputs": [
        {
          "output_type": "execute_result",
          "data": {
            "text/plain": [
              "[('홍길동', '123456-1234567', '김영희', '0123450123456')]"
            ]
          },
          "metadata": {
            "tags": []
          },
          "execution_count": 48
        }
      ]
    },
    {
      "cell_type": "code",
      "metadata": {
        "colab": {
          "base_uri": "https://localhost:8080/"
        },
        "id": "B3Li8KhxiALQ",
        "outputId": "63034f67-284e-480e-acf5-3ad9b90f9827"
      },
      "source": [
        "print([x+'-'+y for x,y in re.findall('(\\d{6})[-]?(\\d{7})',a)])"
      ],
      "execution_count": null,
      "outputs": [
        {
          "output_type": "stream",
          "text": [
            "['123456-1234567', '012345-0123456']\n"
          ],
          "name": "stdout"
        }
      ]
    },
    {
      "cell_type": "code",
      "metadata": {
        "colab": {
          "base_uri": "https://localhost:8080/"
        },
        "id": "t6ua7Hc2jJbo",
        "outputId": "33d09ffe-6d9a-4bf3-c8e2-b92d39f1cde4"
      },
      "source": [
        "a = '<a href=\"in.html\">HERE<a href=\"out.html\">'\n",
        "a"
      ],
      "execution_count": null,
      "outputs": [
        {
          "output_type": "execute_result",
          "data": {
            "application/vnd.google.colaboratory.intrinsic+json": {
              "type": "string"
            },
            "text/plain": [
              "'<a href=\"in.html\">HERE<a href=\"out.html\">'"
            ]
          },
          "metadata": {
            "tags": []
          },
          "execution_count": 50
        }
      ]
    },
    {
      "cell_type": "code",
      "metadata": {
        "colab": {
          "base_uri": "https://localhost:8080/"
        },
        "id": "pHIwVdUbj7sA",
        "outputId": "8b326584-51f6-46df-c93e-a385165042b1"
      },
      "source": [
        "re.findall('href=\"(.*?)\"',a) #['in.html','out.html'] (최단 일치)"
      ],
      "execution_count": null,
      "outputs": [
        {
          "output_type": "execute_result",
          "data": {
            "text/plain": [
              "['in.html', 'out.html']"
            ]
          },
          "metadata": {
            "tags": []
          },
          "execution_count": 51
        }
      ]
    },
    {
      "cell_type": "code",
      "metadata": {
        "colab": {
          "base_uri": "https://localhost:8080/"
        },
        "id": "6LA7yCFbkWmZ",
        "outputId": "031c25eb-34aa-4228-c97a-1a5dabd9c230"
      },
      "source": [
        "re.findall('href=\".*\"',a) #['href=\"in.html\">HERE<a href=\"out.html\"'] (최장 일치)"
      ],
      "execution_count": null,
      "outputs": [
        {
          "output_type": "execute_result",
          "data": {
            "text/plain": [
              "['href=\"in.html\">HERE<a href=\"out.html\"']"
            ]
          },
          "metadata": {
            "tags": []
          },
          "execution_count": 52
        }
      ]
    },
    {
      "cell_type": "code",
      "metadata": {
        "colab": {
          "base_uri": "https://localhost:8080/"
        },
        "id": "X3dZoVjpkmcp",
        "outputId": "c2dd0d46-b926-432d-ccea-41c8b6a31a8b"
      },
      "source": [
        "re.findall('\\w+', a)"
      ],
      "execution_count": null,
      "outputs": [
        {
          "output_type": "execute_result",
          "data": {
            "text/plain": [
              "['a', 'href', 'in', 'html', 'HERE', 'a', 'href', 'out', 'html']"
            ]
          },
          "metadata": {
            "tags": []
          },
          "execution_count": 53
        }
      ]
    },
    {
      "cell_type": "code",
      "metadata": {
        "colab": {
          "base_uri": "https://localhost:8080/"
        },
        "id": "p_MCAXYdleCC",
        "outputId": "13458061-ab66-4f55-856b-f8486eccd5f3"
      },
      "source": [
        "re.findall('\\\\b.+\\\\b', '\\t\\n123\\n\\tabc\\n\\n\\n') #[123, abc]"
      ],
      "execution_count": null,
      "outputs": [
        {
          "output_type": "execute_result",
          "data": {
            "text/plain": [
              "['123', 'abc']"
            ]
          },
          "metadata": {
            "tags": []
          },
          "execution_count": 54
        }
      ]
    },
    {
      "cell_type": "code",
      "metadata": {
        "colab": {
          "base_uri": "https://localhost:8080/"
        },
        "id": "d2o62qyHmahI",
        "outputId": "f2217085-d839-46b3-bf8f-ecf672d922a9"
      },
      "source": [
        "re.findall('\\\\b.+\\\\b', '\\t\\n123abc\\n\\n\\n') #[123abc]"
      ],
      "execution_count": null,
      "outputs": [
        {
          "output_type": "execute_result",
          "data": {
            "text/plain": [
              "['123abc']"
            ]
          },
          "metadata": {
            "tags": []
          },
          "execution_count": 55
        }
      ]
    },
    {
      "cell_type": "code",
      "metadata": {
        "colab": {
          "base_uri": "https://localhost:8080/"
        },
        "id": "23lQwOSZmgm6",
        "outputId": "100186e4-ca44-4d36-ae49-7481db3c6513"
      },
      "source": [
        "re.findall('\\\\b.+\\\\b', '\\t\\n123..abc..\\n\\n\\n') #[123..abc] (기본:최장)"
      ],
      "execution_count": null,
      "outputs": [
        {
          "output_type": "execute_result",
          "data": {
            "text/plain": [
              "['123..abc']"
            ]
          },
          "metadata": {
            "tags": []
          },
          "execution_count": 56
        }
      ]
    },
    {
      "cell_type": "code",
      "metadata": {
        "colab": {
          "base_uri": "https://localhost:8080/"
        },
        "id": "G2cDq95_mmH6",
        "outputId": "d4865115-9f2a-4fbc-a749-3815f8e94bfb"
      },
      "source": [
        "re.findall('\\\\b.', '\\t123.abc.\\n\\n\\n') #['1','.','a','.']"
      ],
      "execution_count": null,
      "outputs": [
        {
          "output_type": "execute_result",
          "data": {
            "text/plain": [
              "['1', '.', 'a', '.']"
            ]
          },
          "metadata": {
            "tags": []
          },
          "execution_count": 57
        }
      ]
    },
    {
      "cell_type": "code",
      "metadata": {
        "colab": {
          "base_uri": "https://localhost:8080/"
        },
        "id": "i5W_fcN_nJhK",
        "outputId": "00e04f07-427d-4b36-cf5d-9fea8a511a04"
      },
      "source": [
        "re.findall('.\\\\b', '\\t123.abc.\\n\\n\\n') #['\\t','3','.','c']"
      ],
      "execution_count": null,
      "outputs": [
        {
          "output_type": "execute_result",
          "data": {
            "text/plain": [
              "['\\t', '3', '.', 'c']"
            ]
          },
          "metadata": {
            "tags": []
          },
          "execution_count": 58
        }
      ]
    },
    {
      "cell_type": "code",
      "metadata": {
        "colab": {
          "base_uri": "https://localhost:8080/"
        },
        "id": "lkqlSqtZnk_R",
        "outputId": "1030bf82-995f-4319-9e74-ae8a6ae14134"
      },
      "source": [
        "a='''회원 명단입니다.\\nDonald Trump\\t\\tTrump.python@python.ac.kr\\nBarrack Obama    obama@python.org\\n이상입니다.'''\n",
        "re.findall('\\s\\s+(.+[@].+)\\s+',a) \n",
        "#re.findall('[A-Za-z.]+@[a-z.]+',a)"
      ],
      "execution_count": null,
      "outputs": [
        {
          "output_type": "execute_result",
          "data": {
            "text/plain": [
              "['Trump.python@python.ac.kr', 'obama@python.org']"
            ]
          },
          "metadata": {
            "tags": []
          },
          "execution_count": 59
        }
      ]
    },
    {
      "cell_type": "markdown",
      "metadata": {
        "id": "FZORBSAvp9tC"
      },
      "source": [
        "##NLTK_코퍼스및어휘자원활용\n",
        "---"
      ]
    },
    {
      "cell_type": "code",
      "metadata": {
        "colab": {
          "base_uri": "https://localhost:8080/"
        },
        "id": "XEefg2z3p-ZW",
        "outputId": "29ec6cfc-e84c-4b9d-c11e-67dd879c86e7"
      },
      "source": [
        "import random as rd\n",
        "a = [len(set(j))/len(j) for j in [rd.choices(text1,k=40000) for i in range(50)]]\n",
        "print('average Type/Token ratio=', round(sum(a)/len(a),3))"
      ],
      "execution_count": null,
      "outputs": [
        {
          "output_type": "stream",
          "text": [
            "average Type/Token ratio= 0.166\n"
          ],
          "name": "stdout"
        }
      ]
    },
    {
      "cell_type": "code",
      "metadata": {
        "colab": {
          "base_uri": "https://localhost:8080/",
          "height": 35
        },
        "id": "iprTNn80rccN",
        "outputId": "2d7b656b-0736-43a8-cfa9-bb91efbc37de"
      },
      "source": [
        "'{0:.3f}'.format(len(set(text2))/len(text2))"
      ],
      "execution_count": null,
      "outputs": [
        {
          "output_type": "execute_result",
          "data": {
            "application/vnd.google.colaboratory.intrinsic+json": {
              "type": "string"
            },
            "text/plain": [
              "'0.048'"
            ]
          },
          "metadata": {
            "tags": []
          },
          "execution_count": 66
        }
      ]
    },
    {
      "cell_type": "code",
      "metadata": {
        "colab": {
          "base_uri": "https://localhost:8080/",
          "height": 35
        },
        "id": "82tv4WttvIfc",
        "outputId": "c5097715-abac-42b3-938e-79d29125361b"
      },
      "source": [
        "def percentage(text, word):\n",
        "    temp = [i.lower() for i in text]\n",
        "    return 'Relative Frequency: {0:.3f}%'.format(temp.count(word)/len(temp)*100)\n",
        "percentage(text2, 'the')"
      ],
      "execution_count": null,
      "outputs": [
        {
          "output_type": "execute_result",
          "data": {
            "application/vnd.google.colaboratory.intrinsic+json": {
              "type": "string"
            },
            "text/plain": [
              "'Relative Frequency: 2.900%'"
            ]
          },
          "metadata": {
            "tags": []
          },
          "execution_count": 67
        }
      ]
    },
    {
      "cell_type": "code",
      "metadata": {
        "colab": {
          "base_uri": "https://localhost:8080/",
          "height": 35
        },
        "id": "WA3n5D5lwdXc",
        "outputId": "0ff09800-65f1-42f2-b686-be8f447e3484"
      },
      "source": [
        "Freq = nltk.FreqDist(text1)\n",
        "'Type/Token Ratio: {0:.3f}'.format(len(Freq)/(sum(Freq.values())))"
      ],
      "execution_count": null,
      "outputs": [
        {
          "output_type": "execute_result",
          "data": {
            "application/vnd.google.colaboratory.intrinsic+json": {
              "type": "string"
            },
            "text/plain": [
              "'Type/Token Ratio: 0.074'"
            ]
          },
          "metadata": {
            "tags": []
          },
          "execution_count": 68
        }
      ]
    },
    {
      "cell_type": "code",
      "metadata": {
        "colab": {
          "base_uri": "https://localhost:8080/"
        },
        "id": "HWi8SVAewgUj",
        "outputId": "2cd144c0-65ee-4162-c8a2-626f7878fbd4"
      },
      "source": [
        "[i for i in set(text1) if len(i)>10 and Freq[i]>20]"
      ],
      "execution_count": null,
      "outputs": [
        {
          "output_type": "execute_result",
          "data": {
            "text/plain": [
              "['circumstance',\n",
              " 'harpooneers',\n",
              " 'considering',\n",
              " 'Nevertheless',\n",
              " 'Nantucketer',\n",
              " 'considerable',\n",
              " 'circumstances',\n",
              " 'nevertheless']"
            ]
          },
          "metadata": {
            "tags": []
          },
          "execution_count": 69
        }
      ]
    },
    {
      "cell_type": "code",
      "metadata": {
        "colab": {
          "base_uri": "https://localhost:8080/"
        },
        "id": "_vKcRygVybC6",
        "outputId": "5730bfe1-a1d0-40ad-828e-7a90baa41ba6"
      },
      "source": [
        "a = gutenberg.raw('austen-emma.txt')\n",
        "len([i for i in a if i.isalpha() is True])"
      ],
      "execution_count": null,
      "outputs": [
        {
          "output_type": "execute_result",
          "data": {
            "text/plain": [
              "684327"
            ]
          },
          "metadata": {
            "tags": []
          },
          "execution_count": 70
        }
      ]
    },
    {
      "cell_type": "code",
      "metadata": {
        "colab": {
          "base_uri": "https://localhost:8080/"
        },
        "id": "2GUdQw5FzSWk",
        "outputId": "b734ca56-69cf-489f-b9fe-942dd29079fc"
      },
      "source": [
        "b = gutenberg.words('austen-emma.txt')\n",
        "len([i for i in b if re.search('[a-z]+',i, re.I)])"
      ],
      "execution_count": null,
      "outputs": [
        {
          "output_type": "execute_result",
          "data": {
            "text/plain": [
              "161975"
            ]
          },
          "metadata": {
            "tags": []
          },
          "execution_count": 71
        }
      ]
    },
    {
      "cell_type": "code",
      "metadata": {
        "colab": {
          "base_uri": "https://localhost:8080/"
        },
        "id": "VYqVUn7Yz6wU",
        "outputId": "39605e0a-d4bd-4729-866f-f4bf20725093"
      },
      "source": [
        "c = gutenberg.sents('austen-emma.txt')\n",
        "cc = ([[j for j in i if re.search('[a-z]',j, re.I)] for i in c])\n",
        "len([i for i in cc if i != []])"
      ],
      "execution_count": null,
      "outputs": [
        {
          "output_type": "execute_result",
          "data": {
            "text/plain": [
              "7713"
            ]
          },
          "metadata": {
            "tags": []
          },
          "execution_count": 72
        }
      ]
    },
    {
      "cell_type": "code",
      "metadata": {
        "id": "blBiNTNZ4XNU"
      },
      "source": [
        "a = [i[:2] for i in brown.fileids()]\n",
        "b = nltk.FreqDist(a)"
      ],
      "execution_count": null,
      "outputs": []
    },
    {
      "cell_type": "code",
      "metadata": {
        "colab": {
          "base_uri": "https://localhost:8080/"
        },
        "id": "I9KN6lhv3VPe",
        "outputId": "c70505b0-d221-433a-9eb4-8461ab6c43c1"
      },
      "source": [
        "for i in b: print(i,'=',b[i])"
      ],
      "execution_count": null,
      "outputs": [
        {
          "output_type": "stream",
          "text": [
            "ca = 44\n",
            "cb = 27\n",
            "cc = 17\n",
            "cd = 17\n",
            "ce = 36\n",
            "cf = 48\n",
            "cg = 75\n",
            "ch = 30\n",
            "cj = 80\n",
            "ck = 29\n",
            "cl = 24\n",
            "cm = 6\n",
            "cn = 29\n",
            "cp = 29\n",
            "cr = 9\n"
          ],
          "name": "stdout"
        }
      ]
    },
    {
      "cell_type": "code",
      "metadata": {
        "colab": {
          "base_uri": "https://localhost:8080/"
        },
        "id": "QLVnoZyb2JOn",
        "outputId": "581f9c61-b2ee-42eb-9029-ca6c2a0b72c3"
      },
      "source": [
        "a = nltk.Text(inaugural.words())\n",
        "a.concordance('citizens')\n",
        "a.similar('citizens')"
      ],
      "execution_count": null,
      "outputs": [
        {
          "output_type": "stream",
          "text": [
            "Displaying 25 of 247 matches:\n",
            "                                   Citizens of the Senate and of the House of \n",
            "wisest and most experienced of her citizens a distrustful scrutiny into his qu\n",
            "oof of the confidence of my fellow citizens , and have thence too little consu\n",
            "an my own , nor those of my fellow citizens at large less than either . No peo\n",
            "hich can win the affections of its citizens and command the respect of the wor\n",
            "is Government must depend . Fellow citizens , I am again called upon by the vo\n",
            "frage , in common with my fellow - citizens , in the adoption or rejection of \n",
            "the Legislature , are exercised by citizens selected at regular periods by the\n",
            "ited the gratitude of his fellow - citizens , commanded the highest praises of\n",
            "o be more friendly to us , and our citizens to be more friendly to them ; if a\n",
            "ed on the commerce of our fellow - citizens by whatever nation , and if succes\n",
            "is providence . Friends and Fellow Citizens : Called upon to undertake the dut\n",
            "sence of that portion of my fellow citizens which is here assembled to express\n",
            "ppression . Let us , then , fellow citizens , unite with one heart and one min\n",
            "nor and confidence from our fellow citizens , resulting not from birth , but f\n",
            "le ? Still one thing more , fellow citizens -- a wise and frugal Government , \n",
            "cities . About to enter , fellow - citizens , on the exercise of duties which \n",
            "afety . I repair , then , fellow - citizens , to the post you have assigned me\n",
            "d prosperity . Proceeding , fellow citizens , to that qualification which the \n",
            "proof of confidence from my fellow citizens at large , and the zeal with which\n",
            "o bridle others . At home , fellow citizens , you best know whether we have do\n",
            "the transactions of our mercantile citizens , it may be the pleasure and the p\n",
            "improvement . I have said , fellow citizens , that the income reserved had ena\n",
            "se outlines I do not mean , fellow citizens , to arrogate to myself the merit \n",
            "to the reflecting character of our citizens at large , who , by the weight of \n",
            "country people government union time men power nation rights peace\n",
            "institutions progress americans happiness prosperity children all\n",
            "states labor strength\n"
          ],
          "name": "stdout"
        }
      ]
    },
    {
      "cell_type": "code",
      "metadata": {
        "colab": {
          "base_uri": "https://localhost:8080/"
        },
        "id": "FBbeZ2qr5qzO",
        "outputId": "bc013e24-8f64-494e-c77f-4e7989c204a5"
      },
      "source": [
        "inaugural.fileids()[:3]"
      ],
      "execution_count": null,
      "outputs": [
        {
          "output_type": "execute_result",
          "data": {
            "text/plain": [
              "['1789-Washington.txt', '1793-Washington.txt', '1797-Adams.txt']"
            ]
          },
          "metadata": {
            "tags": []
          },
          "execution_count": 76
        }
      ]
    },
    {
      "cell_type": "code",
      "metadata": {
        "colab": {
          "base_uri": "https://localhost:8080/"
        },
        "id": "-0rvqfXQ6LAt",
        "outputId": "27701ec7-b085-4267-a816-6e16240ba4b8"
      },
      "source": [
        "a = [i[:4] for i in inaugural.fileids()]\n",
        "a[:8]"
      ],
      "execution_count": null,
      "outputs": [
        {
          "output_type": "execute_result",
          "data": {
            "text/plain": [
              "['1789', '1793', '1797', '1801', '1805', '1809', '1813', '1817']"
            ]
          },
          "metadata": {
            "tags": []
          },
          "execution_count": 77
        }
      ]
    },
    {
      "cell_type": "code",
      "metadata": {
        "colab": {
          "base_uri": "https://localhost:8080/"
        },
        "id": "STfA41cI6xzK",
        "outputId": "027a67a5-39fb-4182-c98a-e608e5e967b3"
      },
      "source": [
        "names = nltk.corpus.names\n",
        "male = names.words('male.txt')\n",
        "female = names.words('female.txt')\n",
        "print(f'male:{len(male):5,} vs. female:{len(female):5,}')"
      ],
      "execution_count": null,
      "outputs": [
        {
          "output_type": "stream",
          "text": [
            "male:2,943 vs. female:5,001\n"
          ],
          "name": "stdout"
        }
      ]
    },
    {
      "cell_type": "code",
      "metadata": {
        "id": "ZnnTpx4n7JFM"
      },
      "source": [
        "intersection = sorted(set(male).intersection(set(female)))\n",
        "onlymale = sorted(set(male).difference(set(female)))"
      ],
      "execution_count": null,
      "outputs": []
    },
    {
      "cell_type": "code",
      "metadata": {
        "colab": {
          "base_uri": "https://localhost:8080/",
          "height": 279
        },
        "id": "wMNpBEGd7fnO",
        "outputId": "0b65f652-d511-4dce-9a0e-c3a4f7a36d44"
      },
      "source": [
        "a = [i[:-1] for i in names.words('male.txt')]\n",
        "b = [i[:-1] for i in names.words('female.txt')]\n",
        "cfd = nltk.ConditionalFreqDist(\n",
        "    (fileid, w[-1])\n",
        "    for fileid in names.fileids()\n",
        "    for w in names.words(fileid)\n",
        ")\n",
        "cfd.plot()"
      ],
      "execution_count": null,
      "outputs": [
        {
          "output_type": "display_data",
          "data": {
            "image/png": "[encoded data removed]",
            "text/plain": [
              "<Figure size 432x288 with 1 Axes>"
            ]
          },
          "metadata": {
            "tags": [],
            "needs_background": "light"
          }
        }
      ]
    },
    {
      "cell_type": "code",
      "metadata": {
        "colab": {
          "base_uri": "https://localhost:8080/"
        },
        "id": "6hF1RW6b7-ZH",
        "outputId": "b841bbe7-81f6-48d7-9f91-264d073f18d8"
      },
      "source": [
        "ex = CategorizedPlaintextCorpusReader('./11_data','.*', cat_pattern='\\D+(.+)[.]')\n",
        "ex.categories()"
      ],
      "execution_count": null,
      "outputs": [
        {
          "output_type": "execute_result",
          "data": {
            "text/plain": [
              "['01', '02', '03', '04']"
            ]
          },
          "metadata": {
            "tags": []
          },
          "execution_count": 83
        }
      ]
    },
    {
      "cell_type": "code",
      "metadata": {
        "colab": {
          "base_uri": "https://localhost:8080/"
        },
        "id": "hcEQFM3r8XFc",
        "outputId": "86e84681-13ff-4b8a-bb66-a0d8728d157c"
      },
      "source": [
        "def content(words):\n",
        "    new = [i for i in words if i.lower() not in stopwords.words('english')]\n",
        "    return len(new)/len(words)\n",
        "\n",
        "content(nltk.corpus.brown.words(categories='romance'))"
      ],
      "execution_count": null,
      "outputs": [
        {
          "output_type": "execute_result",
          "data": {
            "text/plain": [
              "0.5735054697095199"
            ]
          },
          "metadata": {
            "tags": []
          },
          "execution_count": 84
        }
      ]
    },
    {
      "cell_type": "markdown",
      "metadata": {
        "id": "xkf9lwlP8haF"
      },
      "source": [
        "## Raw Texts\n",
        "---"
      ]
    },
    {
      "cell_type": "code",
      "metadata": {
        "id": "BYsq_DTIAOnu"
      },
      "source": [
        "f_name = '12_data01.txt'\n",
        "a = open(f_name, encoding='utf8').read()\n",
        "b = a.split()"
      ],
      "execution_count": null,
      "outputs": []
    },
    {
      "cell_type": "code",
      "metadata": {
        "colab": {
          "base_uri": "https://localhost:8080/"
        },
        "id": "P4ERgCWu7kR2",
        "outputId": "14557cf3-7d2d-486f-af58-f1c99d29d7f8"
      },
      "source": [
        "print('\\n'.join(['파일명:{:>30}','공백문자제외문자수: {:18,}','어휘수: {:>30,}','공백라인제외문단수: {:18,}']\n",
        "                ).format(f_name, len(''.join(b)), len(b), len(re.sub('\\n{2,}','\\n', a.strip()).splitlines())))"
      ],
      "execution_count": null,
      "outputs": [
        {
          "output_type": "stream",
          "text": [
            "파일명:                 12_data01.txt\n",
            "공백문자제외문자수:            943,476\n",
            "어휘수:                        206,529\n",
            "공백라인제외문단수:             18,293\n"
          ],
          "name": "stdout"
        }
      ]
    },
    {
      "cell_type": "code",
      "metadata": {
        "colab": {
          "base_uri": "https://localhost:8080/"
        },
        "id": "JLmcU24FAeDA",
        "outputId": "1e5346f3-a2b4-49dd-ea68-878042e51666"
      },
      "source": [
        "raw = gutenberg.raw('melville-moby_dick.txt')\n",
        "fdist = nltk.FreqDist(i.lower() for i in re.findall('[a-z]', raw, re.I))\n",
        "print([i for (i,_) in fdist.most_common()])"
      ],
      "execution_count": null,
      "outputs": [
        {
          "output_type": "stream",
          "text": [
            "['e', 't', 'a', 'o', 'n', 'i', 's', 'h', 'r', 'l', 'd', 'u', 'm', 'c', 'w', 'f', 'g', 'p', 'b', 'y', 'v', 'k', 'q', 'j', 'x', 'z']\n"
          ],
          "name": "stdout"
        }
      ]
    },
    {
      "cell_type": "code",
      "metadata": {
        "colab": {
          "base_uri": "https://localhost:8080/"
        },
        "id": "dDbZq36K794I",
        "outputId": "4df1b2cb-3a5c-4661-f072-7e5df6126983"
      },
      "source": [
        "words = nltk.corpus.words.words('en')\n",
        "cfd = nltk.ConditionalFreqDist(j.lower() for i in words for j in re.findall('[kprstv][aeiou]',i, re.I))\n",
        "cfd.tabulate()"
      ],
      "execution_count": null,
      "outputs": [
        {
          "output_type": "stream",
          "text": [
            "      a     e     i     o     u \n",
            "k  1431  4979  2544   597   317 \n",
            "p  8572 11227  6864  8768  2507 \n",
            "r 23804 23956 23280 22402  3942 \n",
            "s  5952 11489 12066  6008  6558 \n",
            "t 14456 29443 31684 15285  4766 \n",
            "v  3212 10716  4224  1545   286 \n"
          ],
          "name": "stdout"
        }
      ]
    },
    {
      "cell_type": "markdown",
      "metadata": {
        "id": "JgvJEZN5B8xH"
      },
      "source": [
        "\n",
        "\n",
        "\n",
        "\n",
        "\n",
        "# 기타 이론사항\n"
      ]
    },
    {
      "cell_type": "markdown",
      "metadata": {
        "id": "iKbvbSAvjmMT"
      },
      "source": [
        "\n",
        "## 자연언어처리 역사 (P.65)\n",
        "\n",
        "\n",
        "\n",
        "\n"
      ]
    },
    {
      "cell_type": "markdown",
      "metadata": {
        "id": "zQDd-FOcyYY-"
      },
      "source": [
        "\n",
        "\n",
        "\n",
        "\n",
        "\n",
        "\n",
        "\n",
        "\n",
        "\n",
        "\n",
        "\n",
        "\n",
        "\n",
        "\n",
        "\n",
        "### 인지 혁명\n",
        "1950년대에는 언어학, 심리학, 인류학이 재정립되며 전산학, 신경과학의 태동의 시기이다. \n",
        "\n",
        "당시 이러한 새로운 trend가 생김으로서, 인간의 의식을 다룬다는 공통된 주제를 가질 수 있다는 문제 의식 하에서 생겨난 융합적 학문적 발달을 인지 혁명이라고 한다. \n",
        "\n",
        "이전까지 행동주의 (관찰 가능하기만 하지만 관찰 불가능한 경우를 학문에서 기피)\n",
        "\n",
        "그러나 Chomsky (행동주의 관점에 반대 - 뇌 기반), Miller (단기기억과 관련된 인지심리학) - 가설연역적 방법을 통한 인간의 마음 연구\n",
        "\n",
        "### 인지 과학\n",
        "인간의 마음과 인공지능에서 정보처리가 어떻게 이루어지나\n",
        "\n",
        "Chomskey: 50's 변형생성문법 (문장의 문법성을 밝힘)\n",
        "-> 자연어의 문법성과 구조를 프로그래밍 언어의 문법 성과 구조를 통해 처리\n",
        "\n",
        "--- \n",
        "### Symbolic paradigm (50's~60's)\n",
        "규칙에 따라 serial하게 하나씩 처리하는 방법 (parsing algorithm)\n",
        "* Major Focus: 추론에 기반한 질문 대답 (reasoning, logic)\n",
        "* Minor Focus: 통계 확률\n",
        "자연언어 이해 시스템 - 추론에 기반, 패턴매칭과 키워드 검색\n",
        "\n",
        "### 언어학과 전산학 \n",
        "(80's) HW, SW의 발전으로 인해서 \n",
        "* 전산학의 기계의 무제한적 기억과 빠른 검색 속도를 기반 (Database)\n",
        "* 문법 이론, 의미론 화용론\n",
        "\n",
        " -> 지식 기반 연구 (동일한 지향점)\n",
        "\n",
        "(90's) DB의 양이 너무 방대: 시간과 비용 소모 \n",
        "* 통계확률 기반으로 기계학습 이론 각광\n",
        "* 실제 응용 가능한 기술 개발 요구\n",
        "* Corpus (자국어 대용량 코퍼스 구축)\n",
        "\n",
        "(00's) 4차산업혁명\n",
        "\n",
        "기계학습기반, 인공지능과 기계번역 기술 통합\n",
        "\n",
        "---\n",
        "### 인공지능\n",
        "\n",
        "1980년대 신경망(neural net) 이론\n",
        "* 인간의 두뇌 구조에서 정보를 학습하는 기계학습 이론\n",
        "* 이 이론을 적용하기에는 방대한 데이터를 관리할 방법이 없어\n",
        "다시 침체기 ⇒ 1990년대 인터넷 및 하드웨어의 발전으로 부활\n",
        "\n",
        "1990년대 기계학습 시대\n",
        "* 기계학습: 기계가 수학적 최적화 및 통계분석 기법을 기반으로\n",
        "데이터로부터 패턴을 학습 예측 의사 결정\n",
        "* 원리보다는 구현 가능성의 시대\n",
        "\n",
        "2010년대 Deep learning\n",
        "* 2012년 6월 구글과 앤드루 응(Andrew Ng)이 신경망에 기반한\n",
        "딥러닝을 이용해 1000만 개의 유튜브 동영상 속에서 고양이 이\n",
        "미지를 74.8%의 정확도로 식별 성공하여 인공지능 연구의 전환\n",
        "점\n",
        "* 클라우드 컴퓨팅 환경과 빅데이터가 뒷받침\n",
        "\n",
        "###기계번역\n",
        "\n",
        "* 인공지능과 기계번역은 흥망성쇠를 같이하는 형태이다."
      ]
    },
    {
      "cell_type": "markdown",
      "metadata": {
        "id": "O8jcHauuqTBE"
      },
      "source": [
        "## NLTK 관련\n",
        "symbolic and statical NLP module. \n",
        "\n",
        "언어학, 인지과학, 인공지능, 머신러닝 등등을 support\n",
        "\n"
      ]
    },
    {
      "cell_type": "markdown",
      "metadata": {
        "id": "6Kvue2C6ycQE"
      },
      "source": [
        "\n",
        "### Zipf 법칙\n",
        "자연언어 data를 지배하는 물리적인 법칙 (randomness)\n",
        "\n",
        "어휘(type)를 빈도 내림차순으로 나열할 때, log-log scale -1 gradient과 유사한 분포법칙이 있다. (자연, 사회 현상에서도 관측할 수 있음)\n",
        "\n",
        "고빈도 어휘는 문법어/기능어, 1음절 어휘 (이러한 것들은 stopwords로 걸러낼 수 있음)\n",
        "\n",
        "### Herdan/Heaps 법칙\n",
        "\n",
        "저빈도의 어휘들이 대다수를 차지하게 되는 현상이다. (Large number of rare events (LNRE) model)\n",
        "\n",
        "토큰수가 커질수록, 즉, 텍스트 크기가 커질수록 텍스트에 새로 출현하는 타입의 수가 상대적으로 지속 감소 (크기가 큰 텍스트일수록 type-token ratio는 작게 산출되는 경향)\n",
        "\n",
        "텍스트 크기와 상관없이 적용가능한 표준화된 측정치로서 활용에 문제가 있다.\n",
        "\n",
        "### 코퍼스\n",
        "전산화된 문자 또는 음성 자료의 집합\n",
        "\n",
        "* 언어 연구 목적: 대표성, 균형성, 크기를 고려함\n",
        "* 코퍼스의 종류: 장르(문어/구어), 방언, 사용자 특성, 역사적 시기, 언어 학습/습득, 언어 비교\n",
        "* 원문, 형태소분석, 어휘 의미, 구문분석\n",
        "\n",
        "광의적 의미의 코퍼스\n",
        "* 언어 연구 목적 외에도 다양한 목적으로 활용 가능한 전산화된 언어 자료\n",
        "* 대표성, 균형성이 고려될 필요가 없다? (Web문서, Twitter, FB, 전산 텍스트 등)\n",
        "\n",
        "통계\n",
        "* 모집단(population) -> 표본(sample)\n",
        "* 표본의 대표성: 균형적으로 반영\n",
        "* 언어 사용의 대표성 ⇐ 균형성, 크기\n",
        "* 코퍼스 구축: 장르(문어/구어), 역사적 시기, 방언, 언어 사용자 특성 변이성(variation) 고려\n",
        "* 관찰 규모가 축소된 표본으로서 모집단의 특성, 즉, 언어의 보편적 특성을 관찰\n",
        "* Gutenberg, Brown, Inaugural\n",
        "\n",
        "### stopwords\n",
        "* 길이 2 또는 3 이하 어휘 ⇒ 약자, a, an, in, on 등 기능어/문법어\n",
        "* the, in, what 등 기능어/문법어, say, people 등 텍스트 주제어가 될 가능성이 적다고 가정되는 고빈도 어휘\n",
        "\n",
        "정보검색, 텍스트 마이닝 등\n",
        "* 데이터 분석에서 대체로 제거되는 어휘\n",
        "* 연구 목적에 따라 다양한 버전의 목록 사용\n",
        "* 연구 목적에 따라 제거하지 않는 경우도 있다."
      ]
    },
    {
      "cell_type": "markdown",
      "metadata": {
        "id": "Vef31meEygKF"
      },
      "source": [
        "## NLTK_ RawText처리\n"
      ]
    },
    {
      "cell_type": "markdown",
      "metadata": {
        "id": "5L8mHf5k0gO1"
      },
      "source": [
        "###ASCII\n",
        "문자 코드: 컴퓨터에서 각 문자를 대응하는 코드 체계\n",
        "\n",
        "미국 정보교환 표준부호, 영문 알파벳 문자 인코딩, 8bit 이진수 연쇄를 통한 알파벳, 문장부호, 제어문자 부호화\n",
        "\n",
        "###한글 코드\n",
        "조합형 코드\n",
        "* 16bit = MSB + 초(5) + 중(5) + 종(5)\n",
        "* 음절 모두 표현 가능\n",
        "\n",
        "완성형 코드\n",
        "* 16bit, 미리 정의된 문자 이외는 사용 불가능\n",
        "* EUC-KR (기본 완성형) ~ 20%만 사용\n",
        "* cp949 (확장 완성형)\n",
        "\n",
        "###Unicode\n",
        "전세계 문자를 하나의 코드 체계로 표준화한 문자코드세트 (한자, 한글, ASCII, 기호 등등) ex) UTF-8\n",
        "* EUC-KR의 경우 코드번호순서와 사전 정렬순서 일치, cp949는 아님\n",
        "* unicode는 한글 음절문자 11,172개를 사전정렬순에 의해 코드번호 부여\n",
        "\n",
        "###Tokenization\n",
        "\n",
        "어휘 단위 분리, 소문자변환, 소유격 제거, 문장부호/숫자 분리/제거 등\n",
        "* 대문자가 필요할 때\n",
        "* 특수문자가 사용된 단어\n",
        "\n",
        "###분포 가설\n",
        "\n",
        "같은 contexts 내에서 발생하고 사용되어지는 단어들은 같은 의미를 말하고 있는 경향이 있다. \n",
        "\n",
        "전산언어학, 인지과학 등에서 어휘 의미를 접근하는 토대\n",
        "\n",
        "###연어(collocation)\n",
        "\n",
        "동일 문장, 동일 맥락에서 빈번하게 함께 사용되는 어휘쌍\n",
        "\n",
        "두 어휘의 습득은 대부분 함께 습득\n",
        "* 특정 맥락, 주제와 관련\n",
        "* 문화적 맥락과 관련 \n",
        "* 머릿속 사전에서 연관\n",
        "\n",
        "친숙성/빈도 효과, 촉발효과와 관련 있다. \n",
        "\n",
        "\n"
      ]
    },
    {
      "cell_type": "code",
      "metadata": {
        "id": "eN7d6TN196lk"
      },
      "source": [
        ""
      ],
      "execution_count": null,
      "outputs": []
    }
  ]
}