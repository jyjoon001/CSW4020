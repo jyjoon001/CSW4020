{
  "nbformat": 4,
  "nbformat_minor": 0,
  "metadata": {
    "colab": {
      "name": "CSW4020_HW3.ipynb",
      "provenance": [],
      "collapsed_sections": [],
      "authorship_tag": "ABX9TyOkxCsn8cmjnMQKVy53MmSK",
      "include_colab_link": true
    },
    "kernelspec": {
      "name": "python3",
      "display_name": "Python 3"
    },
    "language_info": {
      "name": "python"
    }
  },
  "cells": [
    {
      "cell_type": "markdown",
      "metadata": {
        "id": "view-in-github",
        "colab_type": "text"
      },
      "source": [
        "<a href=\"https://colab.research.google.com/github/jyjoon001/CSW4020/blob/main/CSW4020_HW3.ipynb\" target=\"_parent\"><img src=\"https://colab.research.google.com/assets/colab-badge.svg\" alt=\"Open In Colab\"/></a>"
      ]
    },
    {
      "cell_type": "markdown",
      "metadata": {
        "id": "jgVDWVgOX6-C"
      },
      "source": [
        "#정보처리및자연어처리 3차과제\n",
        "> 20161482 박준용"
      ]
    },
    {
      "cell_type": "code",
      "metadata": {
        "colab": {
          "base_uri": "https://localhost:8080/"
        },
        "id": "YyTfkvnyGuEQ",
        "outputId": "4a250327-bf07-4398-f85e-f5008aa5e44a"
      },
      "source": [
        "from google.colab import drive\n",
        "drive.mount('/content/drive')\n",
        "%cd /content/drive/MyDrive/CSW4020"
      ],
      "execution_count": 2,
      "outputs": [
        {
          "output_type": "stream",
          "text": [
            "Mounted at /content/drive\n",
            "/content/drive/MyDrive/CSW4020\n"
          ],
          "name": "stdout"
        }
      ]
    },
    {
      "cell_type": "code",
      "metadata": {
        "id": "q5-FgZnEKzox",
        "colab": {
          "base_uri": "https://localhost:8080/"
        },
        "outputId": "1853ddb0-3872-4868-fca8-af723d15bf8b"
      },
      "source": [
        "!pip install konlpy\n",
        "import nltk\n",
        "from nltk.corpus import PlaintextCorpusReader\n",
        "from nltk.corpus.reader.plaintext import CategorizedPlaintextCorpusReader\n",
        "import re\n",
        "import os\n",
        "import konlpy\n",
        "import random\n",
        "from konlpy.tag import Kkma\n",
        "kkma = Kkma()"
      ],
      "execution_count": 33,
      "outputs": [
        {
          "output_type": "stream",
          "text": [
            "Requirement already satisfied: konlpy in /usr/local/lib/python3.7/dist-packages (0.5.2)\n",
            "Requirement already satisfied: beautifulsoup4==4.6.0 in /usr/local/lib/python3.7/dist-packages (from konlpy) (4.6.0)\n",
            "Requirement already satisfied: JPype1>=0.7.0 in /usr/local/lib/python3.7/dist-packages (from konlpy) (1.3.0)\n",
            "Requirement already satisfied: colorama in /usr/local/lib/python3.7/dist-packages (from konlpy) (0.4.4)\n",
            "Requirement already satisfied: numpy>=1.6 in /usr/local/lib/python3.7/dist-packages (from konlpy) (1.19.5)\n",
            "Requirement already satisfied: tweepy>=3.7.0 in /usr/local/lib/python3.7/dist-packages (from konlpy) (3.10.0)\n",
            "Requirement already satisfied: lxml>=4.1.0 in /usr/local/lib/python3.7/dist-packages (from konlpy) (4.2.6)\n",
            "Requirement already satisfied: typing-extensions; python_version < \"3.8\" in /usr/local/lib/python3.7/dist-packages (from JPype1>=0.7.0->konlpy) (3.7.4.3)\n",
            "Requirement already satisfied: requests-oauthlib>=0.7.0 in /usr/local/lib/python3.7/dist-packages (from tweepy>=3.7.0->konlpy) (1.3.0)\n",
            "Requirement already satisfied: requests[socks]>=2.11.1 in /usr/local/lib/python3.7/dist-packages (from tweepy>=3.7.0->konlpy) (2.23.0)\n",
            "Requirement already satisfied: six>=1.10.0 in /usr/local/lib/python3.7/dist-packages (from tweepy>=3.7.0->konlpy) (1.15.0)\n",
            "Requirement already satisfied: oauthlib>=3.0.0 in /usr/local/lib/python3.7/dist-packages (from requests-oauthlib>=0.7.0->tweepy>=3.7.0->konlpy) (3.1.1)\n",
            "Requirement already satisfied: chardet<4,>=3.0.2 in /usr/local/lib/python3.7/dist-packages (from requests[socks]>=2.11.1->tweepy>=3.7.0->konlpy) (3.0.4)\n",
            "Requirement already satisfied: urllib3!=1.25.0,!=1.25.1,<1.26,>=1.21.1 in /usr/local/lib/python3.7/dist-packages (from requests[socks]>=2.11.1->tweepy>=3.7.0->konlpy) (1.24.3)\n",
            "Requirement already satisfied: idna<3,>=2.5 in /usr/local/lib/python3.7/dist-packages (from requests[socks]>=2.11.1->tweepy>=3.7.0->konlpy) (2.10)\n",
            "Requirement already satisfied: certifi>=2017.4.17 in /usr/local/lib/python3.7/dist-packages (from requests[socks]>=2.11.1->tweepy>=3.7.0->konlpy) (2021.5.30)\n",
            "Requirement already satisfied: PySocks!=1.5.7,>=1.5.6; extra == \"socks\" in /usr/local/lib/python3.7/dist-packages (from requests[socks]>=2.11.1->tweepy>=3.7.0->konlpy) (1.7.1)\n"
          ],
          "name": "stdout"
        }
      ]
    },
    {
      "cell_type": "markdown",
      "metadata": {
        "id": "U25Wk4VuXaVr"
      },
      "source": [
        "##개요\n",
        "\n",
        "데이터파일 ```entity_data_utf8.txt```를 대상으로 ```NaiveBayesClassifier```를 이용하여 accuracy가 높은 분류 모형 만들기"
      ]
    },
    {
      "cell_type": "code",
      "metadata": {
        "id": "L00M-k7sUOXk",
        "colab": {
          "base_uri": "https://localhost:8080/"
        },
        "outputId": "1bd9d203-5d1e-424b-a639-4e5890593818"
      },
      "source": [
        "a = open('./entity_data_utf8.txt', encoding='utf-8').read().split('\\n1\\t')\n",
        "b = []\n",
        "b.append(a[0]+'\\n')\n",
        "for i in range(1, len(a)):\n",
        "    b.append('1\\t'+a[i]+'\\n')\n",
        "b[:5]"
      ],
      "execution_count": 4,
      "outputs": [
        {
          "output_type": "execute_result",
          "data": {
            "text/plain": [
              "['1\\t비토리오\\tPER\\n2\\t양일\\tDAT\\n3\\t만에\\t-\\n4\\t영사관\\tORG\\n5\\t감호\\tCVL\\n6\\t용퇴,\\t-\\n7\\t항룡\\t-\\n8\\t압력설\\t-\\n9\\t의심만\\t-\\n10\\t가율\\t-\\n',\n",
              " '1\\t이\\t-\\n2\\t음경동맥의\\t-\\n3\\t직경이\\t-\\n4\\t8\\tNUM\\n5\\t19mm입니다\\tNUM\\n6\\t.\\t-\\n',\n",
              " '1\\t9세이브로\\tNUM\\n2\\t구완\\t-\\n3\\t30위인\\tNUM\\n4\\tLG\\tORG\\n5\\t박찬형은\\tPER\\n6\\t평균자책점이\\t-\\n7\\t16.45로\\tNUM\\n8\\t준수한\\t-\\n9\\t편이지만\\t-\\n10\\t22⅓이닝\\tNUM\\n11\\t동안\\t-\\n12\\t피홈런이\\t-\\n13\\t31개나\\tNUM\\n14\\t된다\\t-\\n15\\t.\\t-\\n',\n",
              " '1\\t7승\\tNUM\\n2\\t25패는\\tNUM\\n3\\t상트페테르부르크가\\tLOC\\n4\\t역대\\t-\\n5\\t월드리그에\\tEVT\\n6\\t출진한\\t-\\n7\\t분별\\t-\\n8\\t최선의\\t-\\n9\\t성적이다\\t-\\n10\\t.\\t-\\n',\n",
              " '1\\t▲\\t-\\n2\\t퍼거슨\\tPER\\n3\\t씨족의\\tCVL\\n4\\t꾀\\t-\\n']"
            ]
          },
          "metadata": {
            "tags": []
          },
          "execution_count": 4
        }
      ]
    },
    {
      "cell_type": "code",
      "metadata": {
        "colab": {
          "base_uri": "https://localhost:8080/"
        },
        "id": "H0yZ9QCYWWCh",
        "outputId": "2d789f2c-8e22-48ae-f745-a551b05d0481"
      },
      "source": [
        "len(b)"
      ],
      "execution_count": 5,
      "outputs": [
        {
          "output_type": "execute_result",
          "data": {
            "text/plain": [
              "90000"
            ]
          },
          "metadata": {
            "tags": []
          },
          "execution_count": 5
        }
      ]
    },
    {
      "cell_type": "code",
      "metadata": {
        "id": "TNbzV95JNjuK"
      },
      "source": [
        "result = []\n",
        "for j in range(0, len(b)):\n",
        "    temp1 = re.findall('\\t(.*)\\t',b[j])\n",
        "    temp2 = re.findall('.*\\t(.*)\\n',b[j])\n",
        "    temp = []\n",
        "    for i in range(0, len(temp1)):\n",
        "        temp.append((temp1[i], temp2[i]))\n",
        "    result.append(temp)"
      ],
      "execution_count": 6,
      "outputs": []
    },
    {
      "cell_type": "code",
      "metadata": {
        "id": "HsbxHGIDs1h3"
      },
      "source": [
        "flatted = [i for j in result for i in j]\n",
        "random.shuffle(flatted)"
      ],
      "execution_count": 7,
      "outputs": []
    },
    {
      "cell_type": "code",
      "metadata": {
        "id": "mrTgtYWlehM5"
      },
      "source": [
        "size = int(len(flatted) *0.9)\n",
        "train_words, test_words = flatted[:size], flatted[size:]"
      ],
      "execution_count": 9,
      "outputs": []
    },
    {
      "cell_type": "markdown",
      "metadata": {
        "id": "pQqtGF0Os3hq"
      },
      "source": [
        "1. n-gram"
      ]
    },
    {
      "cell_type": "code",
      "metadata": {
        "id": "hT-HPsSosgIp"
      },
      "source": [
        "def ngram_features(name):\n",
        "    features = {}\n",
        "    features[\"last_two_letters\"] = name[-2:]\n",
        "    features[\"last_letter\"] = name[-1:]\n",
        "    return features "
      ],
      "execution_count": 8,
      "outputs": []
    },
    {
      "cell_type": "code",
      "metadata": {
        "colab": {
          "base_uri": "https://localhost:8080/"
        },
        "id": "kFCZO5m5oq25",
        "outputId": "7f59d087-5fd4-4579-b300-a87ff2aec817"
      },
      "source": [
        "train_set = [(ngram_features(n), gender) for (n, gender) in train_words]\n",
        "test_set = [(ngram_features(n), gender) for (n, gender) in test_words]\n",
        "classifier = nltk.NaiveBayesClassifier.train(train_set)\n",
        "nltk.classify.accuracy(classifier, test_set)"
      ],
      "execution_count": 10,
      "outputs": [
        {
          "output_type": "execute_result",
          "data": {
            "text/plain": [
              "0.7938189886985464"
            ]
          },
          "metadata": {
            "tags": []
          },
          "execution_count": 10
        }
      ]
    },
    {
      "cell_type": "code",
      "metadata": {
        "colab": {
          "base_uri": "https://localhost:8080/"
        },
        "id": "sq0OirU5s0Cf",
        "outputId": "5cc53d0f-9a83-456f-cb23-553fcee705e5"
      },
      "source": [
        "classifier.show_most_informative_features(20)"
      ],
      "execution_count": 11,
      "outputs": [
        {
          "output_type": "stream",
          "text": [
            "Most Informative Features\n",
            "        last_two_letters = '상오'              TIM : -      =   5786.4 : 1.0\n",
            "        last_two_letters = '1일'              DAT : -      =   5471.3 : 1.0\n",
            "        last_two_letters = '.'                 - : NUM    =   5301.7 : 1.0\n",
            "             last_letter = '%'               NUM : -      =   4034.6 : 1.0\n",
            "        last_two_letters = '림픽'              EVT : -      =   3429.6 : 1.0\n",
            "        last_two_letters = '더파'              NUM : -      =   3138.0 : 1.0\n",
            "        last_two_letters = '0년'              DAT : -      =   3045.3 : 1.0\n",
            "        last_two_letters = '6일'              DAT : -      =   2942.8 : 1.0\n",
            "        last_two_letters = '4년'              DAT : -      =   2857.4 : 1.0\n",
            "        last_two_letters = '8일'              DAT : -      =   2806.1 : 1.0\n",
            "        last_two_letters = '9일'              DAT : -      =   2780.5 : 1.0\n",
            "        last_two_letters = '3일'              DAT : -      =   2746.3 : 1.0\n",
            "        last_two_letters = '1월'              DAT : -      =   2293.6 : 1.0\n",
            "             last_letter = 'r'               TRM : -      =   2252.5 : 1.0\n",
            "        last_two_letters = '대표'              ORG : -      =   2238.0 : 1.0\n",
            "             last_letter = '오'               TIM : NUM    =   2194.9 : 1.0\n",
            "        last_two_letters = '2월'              DAT : -      =   2105.7 : 1.0\n",
            "             last_letter = '년'               DAT : LOC    =   2037.8 : 1.0\n",
            "             last_letter = '6'               DAT : -      =   1996.6 : 1.0\n",
            "             last_letter = 'i'               ORG : -      =   1970.6 : 1.0\n"
          ],
          "name": "stdout"
        }
      ]
    },
    {
      "cell_type": "markdown",
      "metadata": {
        "id": "wi5qVe0Os8wS"
      },
      "source": [
        "2. kormorph"
      ]
    },
    {
      "cell_type": "code",
      "metadata": {
        "id": "RPkup3k2z9DZ"
      },
      "source": [
        "def kormorph_features(name):\n",
        "    features = {}\n",
        "    features[\"kor_morphs\"] = kkma.pos(name)[0][1]\n",
        "    return features "
      ],
      "execution_count": 16,
      "outputs": []
    },
    {
      "cell_type": "code",
      "metadata": {
        "colab": {
          "base_uri": "https://localhost:8080/"
        },
        "id": "zQ8JP-tH1jbN",
        "outputId": "bc557b07-3855-4a08-eb63-af6e78845409"
      },
      "source": [
        "train_set = [(kormorph_features(n), gender) for (n, gender) in train_words]\n",
        "test_set = [(kormorph_features(n), gender) for (n, gender) in test_words]\n",
        "classifier = nltk.NaiveBayesClassifier.train(train_set)\n",
        "nltk.classify.accuracy(classifier, test_set)"
      ],
      "execution_count": 17,
      "outputs": [
        {
          "output_type": "execute_result",
          "data": {
            "text/plain": [
              "0.7309182195979615"
            ]
          },
          "metadata": {
            "tags": []
          },
          "execution_count": 17
        }
      ]
    },
    {
      "cell_type": "code",
      "metadata": {
        "id": "IZFkvVo_1nAm",
        "colab": {
          "base_uri": "https://localhost:8080/"
        },
        "outputId": "43f30378-a397-417e-b8e4-9b361a076804"
      },
      "source": [
        "classifier.show_most_informative_features(20)"
      ],
      "execution_count": 19,
      "outputs": [
        {
          "output_type": "stream",
          "text": [
            "Most Informative Features\n",
            "              kor_morphs = 'SF'                - : CVL    =   3887.2 : 1.0\n",
            "              kor_morphs = 'ECE'             LOC : -      =    588.3 : 1.0\n",
            "              kor_morphs = 'NR'              NUM : -      =    437.3 : 1.0\n",
            "              kor_morphs = 'NNP'             LOC : DAT    =    437.2 : 1.0\n",
            "              kor_morphs = 'UN'              PER : NUM    =    374.6 : 1.0\n",
            "              kor_morphs = 'VXV'               - : LOC    =    195.1 : 1.0\n",
            "              kor_morphs = 'ECD'             LOC : -      =    136.1 : 1.0\n",
            "              kor_morphs = 'OL'              TRM : PER    =    117.9 : 1.0\n",
            "              kor_morphs = 'XPN'             PER : NUM    =    115.8 : 1.0\n",
            "              kor_morphs = 'VCP'             LOC : NUM    =     85.3 : 1.0\n",
            "              kor_morphs = 'XR'                - : NUM    =     83.6 : 1.0\n",
            "              kor_morphs = 'XSV'             AFW : -      =     71.6 : 1.0\n",
            "              kor_morphs = 'NNB'               - : TIM    =     70.3 : 1.0\n",
            "              kor_morphs = 'VX'                - : PER    =     65.1 : 1.0\n",
            "              kor_morphs = 'VCN'               - : CVL    =     62.8 : 1.0\n",
            "              kor_morphs = 'ETD'             LOC : -      =     62.3 : 1.0\n",
            "              kor_morphs = 'VA'                - : FLD    =     61.5 : 1.0\n",
            "              kor_morphs = 'NP'              FLD : DAT    =     55.4 : 1.0\n",
            "              kor_morphs = 'VV'                - : NUM    =     55.1 : 1.0\n",
            "              kor_morphs = 'MDT'             NUM : ANM    =     53.3 : 1.0\n"
          ],
          "name": "stdout"
        }
      ]
    },
    {
      "cell_type": "markdown",
      "metadata": {
        "id": "6ELSE0E_tAF5"
      },
      "source": [
        "3. hangul-jaso"
      ]
    },
    {
      "cell_type": "code",
      "metadata": {
        "id": "dz8So-yMsNka"
      },
      "source": [
        "def jaso1(a):\n",
        "    if re.match('[가-힣]', a):\n",
        "        initial = ['ㄱ','ㄲ','ㄴ','ㄷ','ㄸ','ㄹ','ㅁ','ㅂ','ㅃ','ㅅ','ㅆ','ㅇ','ㅈ','ㅉ','ㅊ','ㅋ','ㅌ','ㅍ','ㅎ']\n",
        "        midial = ['ㅏ','ㅐ','ㅑ','ㅒ','ㅓ','ㅔ','ㅕ','ㅖ','ㅗ','ㅘ','ㅙ','ㅚ','ㅛ','ㅜ','ㅝ','ㅞ','ㅟ','ㅠ','ㅡ','ㅢ','ㅣ']\n",
        "        final = ['None', 'ㄱ','ㄲ','ㄳ','ㄴ','ㄵ','ㄶ','ㄷ','ㄹ','ㄺ','ㄻ','ㄼ','ㄽ','ㄾ','ㄿ','ㅀ','ㅁ','ㅂ','ㅄ','ㅅ','ㅆ','ㅇ','ㅈ','ㅊ','ㅋ','ㅌ','ㅍ','ㅎ']\n",
        "        Chr_ord = ord(a) -44032\n",
        "        ini_index = Chr_ord // (21*28)\n",
        "        mid_index = (Chr_ord // 28)% 21\n",
        "        final_index = Chr_ord % 28\n",
        "        return [initial[ini_index], midial[mid_index], final[final_index]]\n",
        "    else:\n",
        "        return ['None', 'None', 'None']"
      ],
      "execution_count": 21,
      "outputs": []
    },
    {
      "cell_type": "code",
      "metadata": {
        "id": "FOyX8kJ4sNkh"
      },
      "source": [
        "def jaso_features(name):\n",
        "    features = {}\n",
        "    features[\"ini_index\"] = jaso1(name[0][-1:])[0]\n",
        "    features[\"mid_index\"] = jaso1(name[0][-1:])[1]\n",
        "    features[\"final_index\"] = jaso1(name[0][-1:])[2] \n",
        "    return features "
      ],
      "execution_count": 22,
      "outputs": []
    },
    {
      "cell_type": "code",
      "metadata": {
        "colab": {
          "base_uri": "https://localhost:8080/",
          "height": 35
        },
        "id": "NfMzgM0592Id",
        "outputId": "4ba76ab8-bbb3-4a08-b822-f2da05885ed6"
      },
      "source": [
        "jaso1(flatted[2][0][-1:])[2]"
      ],
      "execution_count": 23,
      "outputs": [
        {
          "output_type": "execute_result",
          "data": {
            "application/vnd.google.colaboratory.intrinsic+json": {
              "type": "string"
            },
            "text/plain": [
              "'None'"
            ]
          },
          "metadata": {
            "tags": []
          },
          "execution_count": 23
        }
      ]
    },
    {
      "cell_type": "code",
      "metadata": {
        "colab": {
          "base_uri": "https://localhost:8080/"
        },
        "id": "Y0kKVc0I9Jp-",
        "outputId": "56024a01-b9b8-4029-833a-dd2d05afd1d2"
      },
      "source": [
        "train_set = [(jaso_features(n), gender) for (n, gender) in train_words]\n",
        "test_set = [(jaso_features(n), gender) for (n, gender) in test_words]\n",
        "classifier = nltk.NaiveBayesClassifier.train(train_set)\n",
        "nltk.classify.accuracy(classifier, test_set)"
      ],
      "execution_count": 24,
      "outputs": [
        {
          "output_type": "execute_result",
          "data": {
            "text/plain": [
              "0.6238458790123921"
            ]
          },
          "metadata": {
            "tags": []
          },
          "execution_count": 24
        }
      ]
    },
    {
      "cell_type": "code",
      "metadata": {
        "colab": {
          "base_uri": "https://localhost:8080/"
        },
        "id": "xqKYIoKW9LfV",
        "outputId": "a6f87187-3680-4b77-9494-1a983712fca7"
      },
      "source": [
        "classifier.show_most_informative_features(20)"
      ],
      "execution_count": 26,
      "outputs": [
        {
          "output_type": "stream",
          "text": [
            "Most Informative Features\n",
            "             final_index = 'ㅊ'               PLT : ORG    =   1338.5 : 1.0\n",
            "               ini_index = 'ㄲ'               PLT : DAT    =   1237.4 : 1.0\n",
            "             final_index = 'ㅆ'                 - : CVL    =    754.6 : 1.0\n",
            "               ini_index = 'ㅋ'               FLD : DAT    =    652.7 : 1.0\n",
            "               ini_index = 'ㅃ'               PLT : NUM    =    488.9 : 1.0\n",
            "             final_index = 'ㄶ'                 - : CVL    =    296.3 : 1.0\n",
            "               mid_index = 'ㅡ'               FLD : TIM    =    251.4 : 1.0\n",
            "             final_index = 'ㅈ'               TIM : PER    =    224.6 : 1.0\n",
            "               ini_index = 'ㄹ'               PER : DAT    =    211.1 : 1.0\n",
            "               ini_index = 'ㄸ'               PLT : NUM    =    202.6 : 1.0\n",
            "               ini_index = 'ㅌ'               MAT : DAT    =    199.8 : 1.0\n",
            "               mid_index = 'ㅙ'               LOC : NUM    =    149.4 : 1.0\n",
            "               mid_index = 'ㅔ'               FLD : TIM    =    117.4 : 1.0\n",
            "             final_index = 'ㅍ'               TRM : PER    =    108.1 : 1.0\n",
            "             final_index = 'ㅂ'               ANM : TIM    =     85.0 : 1.0\n",
            "             final_index = 'ㅌ'                 - : ORG    =     79.7 : 1.0\n",
            "             final_index = 'ㄺ'                 - : ORG    =     79.7 : 1.0\n",
            "             final_index = 'ㅄ'                 - : TRM    =     68.3 : 1.0\n",
            "               mid_index = 'ㅢ'               FLD : NUM    =     67.1 : 1.0\n",
            "               mid_index = 'ㅞ'               TRM : DAT    =     57.0 : 1.0\n"
          ],
          "name": "stdout"
        }
      ]
    },
    {
      "cell_type": "markdown",
      "metadata": {
        "id": "ce7VHJoDtMs6"
      },
      "source": [
        "4. length features"
      ]
    },
    {
      "cell_type": "code",
      "metadata": {
        "id": "feEEy8AXBE-d"
      },
      "source": [
        "def len_features(name):\n",
        "    letters = ''.join(name)\n",
        "    features = {}\n",
        "    features['length'] = len(name)\n",
        "    features[\"ratio_alphabet\"] =  len(re.findall('[가-힣]', letters, re.I))/len(letters)\n",
        "    features[\"ratio_digit\"] = len(re.findall('\\d', letters))/len(letters)\n",
        "    features[\"ratio_punct\"] = len(re.findall('[^\\w]', letters))/len(letters)\n",
        "    return features "
      ],
      "execution_count": 27,
      "outputs": []
    },
    {
      "cell_type": "code",
      "metadata": {
        "colab": {
          "base_uri": "https://localhost:8080/"
        },
        "id": "CMU_b7vVFBQ-",
        "outputId": "023d52ba-d2ed-43f4-dc2e-193323dd7efc"
      },
      "source": [
        "train_set = [(len_features(n), gender) for (n, gender) in train_words]\n",
        "test_set = [(len_features(n), gender) for (n, gender) in test_words]\n",
        "classifier = nltk.NaiveBayesClassifier.train(train_set)\n",
        "nltk.classify.accuracy(classifier, test_set)"
      ],
      "execution_count": 28,
      "outputs": [
        {
          "output_type": "execute_result",
          "data": {
            "text/plain": [
              "0.7282761992515843"
            ]
          },
          "metadata": {
            "tags": []
          },
          "execution_count": 28
        }
      ]
    },
    {
      "cell_type": "code",
      "metadata": {
        "colab": {
          "base_uri": "https://localhost:8080/"
        },
        "id": "zM7cRmuNFDKl",
        "outputId": "dc7d4f0f-417e-4101-f169-8e24f4452fdf"
      },
      "source": [
        "classifier.show_most_informative_features(20)"
      ],
      "execution_count": 29,
      "outputs": [
        {
          "output_type": "stream",
          "text": [
            "Most Informative Features\n",
            "          ratio_alphabet = 0.13636363636363635    TRM : -      =   7311.1 : 1.0\n",
            "                  length = 19                TRM : -      =   5111.6 : 1.0\n",
            "             ratio_punct = 0.13636363636363635    TRM : -      =   4739.0 : 1.0\n",
            "             ratio_punct = 0.15              TRM : -      =   4712.6 : 1.0\n",
            "             ratio_digit = 0.5714285714285714    NUM : -      =   4472.7 : 1.0\n",
            "                  length = 22                TRM : -      =   3322.3 : 1.0\n",
            "             ratio_digit = 0.6666666666666666    NUM : PER    =   3193.3 : 1.0\n",
            "          ratio_alphabet = 0.09523809523809523    TRM : -      =   2882.8 : 1.0\n",
            "          ratio_alphabet = 0.26666666666666666    MAT : -      =   2660.7 : 1.0\n",
            "                  length = 18                TRM : -      =   2605.0 : 1.0\n",
            "             ratio_punct = 0.19047619047619047    TRM : -      =   2524.4 : 1.0\n",
            "                  length = 21                TRM : -      =   2326.9 : 1.0\n",
            "             ratio_punct = 0.06666666666666667    MAT : -      =   2185.0 : 1.0\n",
            "                  length = 23                TRM : -      =   2125.5 : 1.0\n",
            "             ratio_digit = 0.4               NUM : -      =   1850.7 : 1.0\n",
            "             ratio_digit = 0.6               NUM : -      =   1594.3 : 1.0\n",
            "                  length = 20                TRM : -      =   1456.3 : 1.0\n",
            "          ratio_alphabet = 0.6153846153846154    MAT : -      =   1357.5 : 1.0\n",
            "             ratio_punct = 0.21052631578947367    TRM : -      =   1338.0 : 1.0\n",
            "          ratio_alphabet = 0.09090909090909091    TRM : -      =   1282.5 : 1.0\n"
          ],
          "name": "stdout"
        }
      ]
    },
    {
      "cell_type": "markdown",
      "metadata": {
        "id": "qBcokOEotJO6"
      },
      "source": [
        "5. best features"
      ]
    },
    {
      "cell_type": "code",
      "metadata": {
        "id": "Uegc7f1XFM0M"
      },
      "source": [
        "def best_features(name):\n",
        "    letters = ''.join(name)\n",
        "    features = {}\n",
        "    features[\"first_letter\"] = name[0]\n",
        "    features[\"last_two_letters\"] = name[-2:]\n",
        "    features[\"last_three_letters\"] = name[-3:]\n",
        "    features[\"ratio_digit\"] = len(re.findall('\\d', letters))/len(letters)\n",
        "    features['length'] = len(name)\n",
        "    return features "
      ],
      "execution_count": 30,
      "outputs": []
    },
    {
      "cell_type": "code",
      "metadata": {
        "colab": {
          "base_uri": "https://localhost:8080/"
        },
        "id": "QORM_e5NF8Q0",
        "outputId": "f17d2cc2-114f-41c2-a954-ae74ee796a2d"
      },
      "source": [
        "train_set = [(best_features(n), gender) for (n, gender) in train_words]\n",
        "test_set = [(best_features(n), gender) for (n, gender) in test_words]\n",
        "classifier = nltk.NaiveBayesClassifier.train(train_set)\n",
        "nltk.classify.accuracy(classifier, test_set)"
      ],
      "execution_count": 31,
      "outputs": [
        {
          "output_type": "execute_result",
          "data": {
            "text/plain": [
              "0.8633577163918088"
            ]
          },
          "metadata": {
            "tags": []
          },
          "execution_count": 31
        }
      ]
    },
    {
      "cell_type": "code",
      "metadata": {
        "colab": {
          "base_uri": "https://localhost:8080/"
        },
        "id": "58da6xwNF-9k",
        "outputId": "41e6c78b-c165-43be-a65b-7c0ff68cdd8c"
      },
      "source": [
        "classifier.show_most_informative_features(20)"
      ],
      "execution_count": 32,
      "outputs": [
        {
          "output_type": "stream",
          "text": [
            "Most Informative Features\n",
            "      last_three_letters = '.'                 - : NUM    =   8806.8 : 1.0\n",
            "        last_two_letters = '상오'              TIM : -      =   5786.4 : 1.0\n",
            "        last_two_letters = '1일'              DAT : -      =   5471.3 : 1.0\n",
            "        last_two_letters = '.'                 - : NUM    =   5301.7 : 1.0\n",
            "                  length = 19                TRM : -      =   5111.6 : 1.0\n",
            "             ratio_digit = 0.5714285714285714    NUM : -      =   4472.7 : 1.0\n",
            "            first_letter = '1'               NUM : PER    =   4375.1 : 1.0\n",
            "            first_letter = '7'               DAT : -      =   4175.7 : 1.0\n",
            "            first_letter = '2'               NUM : -      =   4037.0 : 1.0\n",
            "            first_letter = '.'                 - : CVL    =   3774.2 : 1.0\n",
            "        last_two_letters = '림픽'              EVT : -      =   3429.6 : 1.0\n",
            "                  length = 22                TRM : -      =   3322.3 : 1.0\n",
            "             ratio_digit = 0.6666666666666666    NUM : PER    =   3193.3 : 1.0\n",
            "        last_two_letters = '더파'              NUM : -      =   3138.0 : 1.0\n",
            "            first_letter = '5'               DAT : -      =   3052.9 : 1.0\n",
            "        last_two_letters = '0년'              DAT : -      =   3045.3 : 1.0\n",
            "        last_two_letters = '6일'              DAT : -      =   2942.8 : 1.0\n",
            "        last_two_letters = '4년'              DAT : -      =   2857.4 : 1.0\n",
            "        last_two_letters = '8일'              DAT : -      =   2806.1 : 1.0\n",
            "        last_two_letters = '9일'              DAT : -      =   2780.5 : 1.0\n"
          ],
          "name": "stdout"
        }
      ]
    }
  ]
}