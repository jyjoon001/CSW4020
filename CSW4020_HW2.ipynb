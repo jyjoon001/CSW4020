{
  "nbformat": 4,
  "nbformat_minor": 0,
  "metadata": {
    "colab": {
      "name": "CSW4020_HW2.ipynb",
      "provenance": [],
      "authorship_tag": "ABX9TyPt0RoMSy/t7mVlVykUe10E",
      "include_colab_link": true
    },
    "kernelspec": {
      "name": "python3",
      "display_name": "Python 3"
    },
    "language_info": {
      "name": "python"
    }
  },
  "cells": [
    {
      "cell_type": "markdown",
      "metadata": {
        "id": "view-in-github",
        "colab_type": "text"
      },
      "source": [
        "<a href=\"https://colab.research.google.com/github/jyjoon001/CSW4020/blob/main/CSW4020_HW2.ipynb\" target=\"_parent\"><img src=\"https://colab.research.google.com/assets/colab-badge.svg\" alt=\"Open In Colab\"/></a>"
      ]
    },
    {
      "cell_type": "markdown",
      "metadata": {
        "id": "jgVDWVgOX6-C"
      },
      "source": [
        "#정보처리및자연어처리 2차과제\n",
        "> 20161482 박준용"
      ]
    },
    {
      "cell_type": "code",
      "metadata": {
        "colab": {
          "base_uri": "https://localhost:8080/"
        },
        "id": "YyTfkvnyGuEQ",
        "outputId": "3d8b9d47-b722-43b3-9848-7dd7727506c7"
      },
      "source": [
        "from google.colab import drive\n",
        "drive.mount('/content/drive')\n",
        "%cd /content/drive/MyDrive/CSW4020"
      ],
      "execution_count": 1,
      "outputs": [
        {
          "output_type": "stream",
          "text": [
            "Drive already mounted at /content/drive; to attempt to forcibly remount, call drive.mount(\"/content/drive\", force_remount=True).\n",
            "/content/drive/MyDrive/CSW4020\n"
          ],
          "name": "stdout"
        }
      ]
    },
    {
      "cell_type": "code",
      "metadata": {
        "id": "q5-FgZnEKzox"
      },
      "source": [
        "import nltk\n",
        "from nltk.corpus import PlaintextCorpusReader\n",
        "from nltk.corpus.reader.plaintext import CategorizedPlaintextCorpusReader\n",
        "import re"
      ],
      "execution_count": 2,
      "outputs": []
    },
    {
      "cell_type": "markdown",
      "metadata": {
        "id": "U25Wk4VuXaVr"
      },
      "source": [
        "##1번: 배점 5점\n",
        "\n",
        "다음을 수행하여 변수 tagged_paragraphs 를 만드시오. \n",
        "1. data.txt 불러오기\n",
        "2. 본문 영역 (```<body>``` … ```</body>```) 내 문단 단위 (```<p>```… ```</p>```)로 구분 된 어절과 형태분석 쌍의 튜플을 원소로 하는 리스트 구성\n",
        "\n",
        "*   tagged_paragraphs = [[문단1] , [문단2], [문단3], ….]\n",
        "*   각 문단 = [(어절1, 형태분석1), (어절2, 형태분석2), …]"
      ]
    },
    {
      "cell_type": "code",
      "metadata": {
        "id": "L00M-k7sUOXk"
      },
      "source": [
        "# 1번\n",
        "data = open('./data.txt', encoding = 'utf-8').read()\n",
        "body = re.search('<body.*/body>', data, re.I|re.S).group()\n",
        "p = re.findall('<p.*?/p>', body, re.I|re.S)\n",
        "tagged_paragraphs = []\n",
        "for i in range(0, len(p)):\n",
        "    temp1 = re.findall(r'\\t(.*?)\\n',p[i])\n",
        "    temp2 = [tuple(re.split(r'\\t+', w)) for w in temp1]\n",
        "    tagged_paragraphs.append(temp2)"
      ],
      "execution_count": 3,
      "outputs": []
    },
    {
      "cell_type": "code",
      "metadata": {
        "colab": {
          "base_uri": "https://localhost:8080/"
        },
        "id": "8XvoH2kNI5_r",
        "outputId": "b656bed3-6537-43af-b76f-eaca1389c929"
      },
      "source": [
        "print(tagged_paragraphs[2:3])"
      ],
      "execution_count": 4,
      "outputs": [
        {
          "output_type": "stream",
          "text": [
            "[[('내', '나/NP + 의/JKG'), ('머릿속으로', '머릿속/NNG + 으로/JKB'), ('어떤', '어떤/MM'), ('장면이', '장면/NNG + 이/JKS'), ('떠오른', '떠오르/VV + ㄴ/ETM'), ('것은', '것/NNB + 은/JX'), ('그', '그/MM'), ('어느', '어느/MM'), ('순간이었다.', '순간/NNG + 이/VCP + 었/EP + 다/EF + ./SF'), ('그것은', '그것/NP + 은/JX'), ('확실히', '확실히/MAG'), ('좀', '좀/MAG'), ('엉뚱한', '엉뚱/XR + 하/XSA + ㄴ/ETM'), ('연상이었으므로', '연상/NNG + 이/VCP + 었/EP + 으므로/EC'), ('나는', '나/NP + 는/JX'), ('나도', '나/NP + 도/JX'), ('모르게', '모르/VV + 게/EC'), ('피식', '피식/MAG'), ('웃었다.', '웃/VV + 었/EP + 다/EF + ./SF'), ('내', '나/NP + 의/JKG'), ('웃음은', '웃음/NNG + 은/JX'), ('채', '채/MAG'), ('형태를', '형태/NNG + 를/JKO'), ('갖추지', '갖추/VV + 지/EC'), ('못한', '못하/VX + ㄴ/ETM'), ('채', '채/NNB'), ('일그러졌다.', '일그러지/VV + 었/EP + 다/EF + ./SF')]]\n"
          ],
          "name": "stdout"
        }
      ]
    },
    {
      "cell_type": "code",
      "metadata": {
        "colab": {
          "base_uri": "https://localhost:8080/"
        },
        "id": "k-x6mVcNI8Zz",
        "outputId": "182b9711-e007-4eb8-c906-705c4df72609"
      },
      "source": [
        "len(tagged_paragraphs)"
      ],
      "execution_count": 5,
      "outputs": [
        {
          "output_type": "execute_result",
          "data": {
            "text/plain": [
              "561"
            ]
          },
          "metadata": {
            "tags": []
          },
          "execution_count": 5
        }
      ]
    },
    {
      "cell_type": "code",
      "metadata": {
        "colab": {
          "base_uri": "https://localhost:8080/"
        },
        "id": "yGWPZv_BI-lq",
        "outputId": "9360b9c4-11d7-46b4-f59d-5ade8f12a2c7"
      },
      "source": [
        "type(tagged_paragraphs)"
      ],
      "execution_count": 6,
      "outputs": [
        {
          "output_type": "execute_result",
          "data": {
            "text/plain": [
              "list"
            ]
          },
          "metadata": {
            "tags": []
          },
          "execution_count": 6
        }
      ]
    },
    {
      "cell_type": "code",
      "metadata": {
        "colab": {
          "base_uri": "https://localhost:8080/"
        },
        "id": "HnLW_Wk8YqzN",
        "outputId": "44123499-d90c-45e5-eea1-86d820b38ada"
      },
      "source": [
        "import pickle\n",
        "answer1 = pickle.load(open('answer1.pkl','rb'))\n",
        "tagged_paragraphs == answer1"
      ],
      "execution_count": 7,
      "outputs": [
        {
          "output_type": "execute_result",
          "data": {
            "text/plain": [
              "True"
            ]
          },
          "metadata": {
            "tags": []
          },
          "execution_count": 7
        }
      ]
    },
    {
      "cell_type": "markdown",
      "metadata": {
        "id": "cVRzf5O0Xqnb"
      },
      "source": [
        "##2번: 배점 2점\n",
        "\n",
        "다음을 수행하는 일련의 코드를 제시하시오. \n",
        "1. 문제 1번의 변수 tagged_paragraphs로부터 전체 문단 중 90%(앞부분) 문단을 변수 train으로(training data), 나머지 10%(뒷부분) 문단을 변수 test로(test data) 만들기\n",
        "2. 변수 train(training data)을 이용하여 unigram tagger, bigram tagger, trigram tagger로 구성된 combining tagger 만들고 변수는 combining_tagger로 설정(default tagger는 포함하지 않음)\n",
        "3. 변수 test (test data)을 이용하여 combining tagger 변수 combining_tagger의 정확도를 측정하시오."
      ]
    },
    {
      "cell_type": "code",
      "metadata": {
        "id": "_IM_deFNTayE"
      },
      "source": [
        "# 2번\n",
        "size = int(len(tagged_paragraphs)*0.9)\n",
        "train_sents = tagged_paragraphs[:size]\n",
        "test_sents = tagged_paragraphs[size:]"
      ],
      "execution_count": 8,
      "outputs": []
    },
    {
      "cell_type": "code",
      "metadata": {
        "id": "mRUcxpfGW6Lx"
      },
      "source": [
        "t1 = nltk.UnigramTagger(train_sents)\n",
        "t2 = nltk.BigramTagger(train_sents, backoff = t1)\n",
        "combining_tagger = nltk.TrigramTagger(train_sents, backoff = t2)"
      ],
      "execution_count": 9,
      "outputs": []
    },
    {
      "cell_type": "code",
      "metadata": {
        "colab": {
          "base_uri": "https://localhost:8080/"
        },
        "id": "VA7Z02ov5mvt",
        "outputId": "bcd7e6e0-40ec-41fd-fc00-a0ba5a97e082"
      },
      "source": [
        "combining_tagger.evaluate(test_sents)"
      ],
      "execution_count": 10,
      "outputs": [
        {
          "output_type": "execute_result",
          "data": {
            "text/plain": [
              "0.6167754897036665"
            ]
          },
          "metadata": {
            "tags": []
          },
          "execution_count": 10
        }
      ]
    },
    {
      "cell_type": "markdown",
      "metadata": {
        "id": "IxavGw5nYifT"
      },
      "source": [
        "##3번: 배점 1점\n",
        "\n",
        "문제 2번의 변수 test로부터 어절만 순서대로 추출한 변수 test_words 를 만드시오.(반드시 네모칸에 들어갈 한 줄 코드로 작성하시오)"
      ]
    },
    {
      "cell_type": "code",
      "metadata": {
        "colab": {
          "base_uri": "https://localhost:8080/"
        },
        "id": "JZRPd_LjZvKa",
        "outputId": "6160cf6d-97f5-4e85-85d0-5cf3887395e3"
      },
      "source": [
        "# 3번\n",
        "test_words = [j[0] for i in test_sents for j in i]\n",
        "print(test_words[:20])"
      ],
      "execution_count": 11,
      "outputs": [
        {
          "output_type": "stream",
          "text": [
            "['내', '계산은', '들어맞았다.', '나는', '우리', '가족들이', '마음으로는', '다들', '원하면서도', '선뜻', '행동으로', '옮기지', '못하고', '있는', '일이', '무엇인지를', '확신했고,', '그', '일을', '할']\n"
          ],
          "name": "stdout"
        }
      ]
    },
    {
      "cell_type": "code",
      "metadata": {
        "colab": {
          "base_uri": "https://localhost:8080/"
        },
        "id": "Z3Nou8JkCulM",
        "outputId": "77fa0caf-1934-4fd5-c884-341c267226a5"
      },
      "source": [
        "print(test_words[-20:])"
      ],
      "execution_count": 12,
      "outputs": [
        {
          "output_type": "stream",
          "text": [
            "['것이', '문학일', '테니까요.', '연재', '기회를', '준', '「작가」와', '이', '불성실한', '작가에게', '지속적인', '애정과', '신뢰를', '보내준', '문학동네에', '고마움을', '전합니다.', '2000년', '가을', '이승우']\n"
          ],
          "name": "stdout"
        }
      ]
    },
    {
      "cell_type": "code",
      "metadata": {
        "colab": {
          "base_uri": "https://localhost:8080/"
        },
        "id": "xop3p_H9BQEE",
        "outputId": "3c29b077-3370-4a81-dc86-efea1b0322df"
      },
      "source": [
        "len(test_words)"
      ],
      "execution_count": 13,
      "outputs": [
        {
          "output_type": "execute_result",
          "data": {
            "text/plain": [
              "3982"
            ]
          },
          "metadata": {
            "tags": []
          },
          "execution_count": 13
        }
      ]
    },
    {
      "cell_type": "markdown",
      "metadata": {
        "id": "o712OSYbeFeZ"
      },
      "source": [
        "## 4번: 배점 2점\n",
        "위쪽 그림으로부터 아래 그림을 도출할 수 있는 함수 defaultNNG 네모칸에 들어갈 한 줄 코드로 작성하시오. <br>\n",
        "(None ⇒ ‘어휘/NNG’)"
      ]
    },
    {
      "cell_type": "code",
      "metadata": {
        "id": "wbausUOBskX_",
        "colab": {
          "base_uri": "https://localhost:8080/"
        },
        "outputId": "e3802ebd-465d-4e42-91a1-c23bc0759776"
      },
      "source": [
        "# 4번\n",
        "print(combining_tagger.tag(test_words[:10]))"
      ],
      "execution_count": 14,
      "outputs": [
        {
          "output_type": "stream",
          "text": [
            "[('내', '나/NP + 의/JKG'), ('계산은', '계산/NNG + 은/JX'), ('들어맞았다.', None), ('나는', '나/NP + 는/JX'), ('우리', '우리/NP'), ('가족들이', '가족/NNG + 들/XSN + 이/JKS'), ('마음으로는', None), ('다들', None), ('원하면서도', None), ('선뜻', None)]\n"
          ],
          "name": "stdout"
        }
      ]
    },
    {
      "cell_type": "code",
      "metadata": {
        "id": "RPOqtC2xW84C"
      },
      "source": [
        "def defaultNNG(x):\n",
        "    return([(j[0],j[0]+'/NNG') if j[1] is None else j for j in x])"
      ],
      "execution_count": 15,
      "outputs": []
    },
    {
      "cell_type": "code",
      "metadata": {
        "colab": {
          "base_uri": "https://localhost:8080/"
        },
        "id": "IG-nrVdNXjPq",
        "outputId": "f21bacbc-f9d7-4e04-834b-b8b1a2589cf0"
      },
      "source": [
        "print(defaultNNG(combining_tagger.tag(test_words[:10])))"
      ],
      "execution_count": 16,
      "outputs": [
        {
          "output_type": "stream",
          "text": [
            "[('내', '나/NP + 의/JKG'), ('계산은', '계산/NNG + 은/JX'), ('들어맞았다.', '들어맞았다./NNG'), ('나는', '나/NP + 는/JX'), ('우리', '우리/NP'), ('가족들이', '가족/NNG + 들/XSN + 이/JKS'), ('마음으로는', '마음으로는/NNG'), ('다들', '다들/NNG'), ('원하면서도', '원하면서도/NNG'), ('선뜻', '선뜻/NNG')]\n"
          ],
          "name": "stdout"
        }
      ]
    }
  ]
}