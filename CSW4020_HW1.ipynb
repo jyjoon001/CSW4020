{
  "nbformat": 4,
  "nbformat_minor": 0,
  "metadata": {
    "colab": {
      "name": "CSW4020_HW1.ipynb",
      "provenance": [],
      "authorship_tag": "ABX9TyMV8G/cQXjiAV6kCXhWH+ss",
      "include_colab_link": true
    },
    "kernelspec": {
      "name": "python3",
      "display_name": "Python 3"
    },
    "language_info": {
      "name": "python"
    }
  },
  "cells": [
    {
      "cell_type": "markdown",
      "metadata": {
        "id": "view-in-github",
        "colab_type": "text"
      },
      "source": [
        "<a href=\"https://colab.research.google.com/github/jyjoon001/CSW4020/blob/main/CSW4020_HW1.ipynb\" target=\"_parent\"><img src=\"https://colab.research.google.com/assets/colab-badge.svg\" alt=\"Open In Colab\"/></a>"
      ]
    },
    {
      "cell_type": "markdown",
      "metadata": {
        "id": "jgVDWVgOX6-C"
      },
      "source": [
        "#정보처리및자연어처리 1차과제\n",
        "> 20161482 박준용"
      ]
    },
    {
      "cell_type": "code",
      "metadata": {
        "colab": {
          "base_uri": "https://localhost:8080/"
        },
        "id": "YyTfkvnyGuEQ",
        "outputId": "e22ad3a4-6584-413a-cd37-8fefa8656656"
      },
      "source": [
        "from google.colab import drive\n",
        "drive.mount('/content/drive')\n",
        "%cd /content/drive/MyDrive/CSW4020"
      ],
      "execution_count": 1,
      "outputs": [
        {
          "output_type": "stream",
          "text": [
            "Mounted at /content/drive\n",
            "/content/drive/MyDrive/CSW4020\n"
          ],
          "name": "stdout"
        }
      ]
    },
    {
      "cell_type": "code",
      "metadata": {
        "id": "q5-FgZnEKzox"
      },
      "source": [
        "import nltk\n",
        "from nltk.corpus import PlaintextCorpusReader\n",
        "from nltk.corpus.reader.plaintext import CategorizedPlaintextCorpusReader\n",
        "import re"
      ],
      "execution_count": 2,
      "outputs": []
    },
    {
      "cell_type": "markdown",
      "metadata": {
        "id": "U25Wk4VuXaVr"
      },
      "source": [
        "##1번: 배점 1점\n",
        "\n",
        "현재 작업 폴더 밑 Q1 폴더의 16개 파일을 불러와서 다음의 결과를 얻을 수 있도록 변수 a를 있도록 한 줄 코드로 만드시오. (주의: categories의 출력값을 Q1 폴더 파일명으로부터 추출해야 함.)"
      ]
    },
    {
      "cell_type": "code",
      "metadata": {
        "id": "L00M-k7sUOXk"
      },
      "source": [
        "a = CategorizedPlaintextCorpusReader('./Q1','.*', cat_pattern='\\D+[a-z](.+)[.]') #답안"
      ],
      "execution_count": 3,
      "outputs": []
    },
    {
      "cell_type": "code",
      "metadata": {
        "colab": {
          "base_uri": "https://localhost:8080/"
        },
        "id": "8XvoH2kNI5_r",
        "outputId": "d8ebb026-e122-40d3-e081-01c5676e3c73"
      },
      "source": [
        "a.categories()"
      ],
      "execution_count": 4,
      "outputs": [
        {
          "output_type": "execute_result",
          "data": {
            "text/plain": [
              "['HUMANITIES', 'NATSCIENCE', 'SOCSCIENCE', 'TECH']"
            ]
          },
          "metadata": {
            "tags": []
          },
          "execution_count": 4
        }
      ]
    },
    {
      "cell_type": "code",
      "metadata": {
        "colab": {
          "base_uri": "https://localhost:8080/"
        },
        "id": "k-x6mVcNI8Zz",
        "outputId": "dbf7017b-9632-46a9-bb12-af2c5c6267f7"
      },
      "source": [
        "len(a.fileids())"
      ],
      "execution_count": 5,
      "outputs": [
        {
          "output_type": "execute_result",
          "data": {
            "text/plain": [
              "16"
            ]
          },
          "metadata": {
            "tags": []
          },
          "execution_count": 5
        }
      ]
    },
    {
      "cell_type": "code",
      "metadata": {
        "colab": {
          "base_uri": "https://localhost:8080/"
        },
        "id": "yGWPZv_BI-lq",
        "outputId": "ecc3bcef-fb8d-4f2d-afb5-a732c7a58f94"
      },
      "source": [
        "print(a.fileids())"
      ],
      "execution_count": 6,
      "outputs": [
        {
          "output_type": "stream",
          "text": [
            "['CANacademicHUMANITIES.txt', 'CANacademicNATSCIENCE.txt', 'CANacademicSOCSCIENCE.txt', 'CANacademicTECH.txt', 'CANpopularHUMANITIES.txt', 'CANpopularNATSCIENCE.txt', 'CANpopularSOCSCIENCE.txt', 'CANpopularTECH.txt', 'NZacademicHUMANITIES.txt', 'NZacademicNATSCIENCE.txt', 'NZacademicSOCSCIENCE.txt', 'NZacademicTECH.txt', 'NZpopularHUMANITIES.txt', 'NZpopularNATSCIENCE.txt', 'NZpopularSOCSCIENCE.txt', 'NZpopularTECH.txt']\n"
          ],
          "name": "stdout"
        }
      ]
    },
    {
      "cell_type": "markdown",
      "metadata": {
        "id": "cVRzf5O0Xqnb"
      },
      "source": [
        "##2번: 배점 1점\n",
        "\n",
        "현재 작업 폴더 밑 Q2 폴더의 4개 파일을 불러와서 다음의 결과를 얻을 수 있도록 변수 b를 구성하도록 한 줄 코드로 만드시오. "
      ]
    },
    {
      "cell_type": "code",
      "metadata": {
        "id": "_IM_deFNTayE"
      },
      "source": [
        "b = PlaintextCorpusReader('./Q2','.*') #답안"
      ],
      "execution_count": 7,
      "outputs": []
    },
    {
      "cell_type": "code",
      "metadata": {
        "colab": {
          "base_uri": "https://localhost:8080/"
        },
        "id": "mRUcxpfGW6Lx",
        "outputId": "656778f7-e7f1-498d-89db-8760d3adca11"
      },
      "source": [
        "b.fileids()"
      ],
      "execution_count": 8,
      "outputs": [
        {
          "output_type": "execute_result",
          "data": {
            "text/plain": [
              "['HUMANITIES.txt', 'NATSCIENCE.txt', 'SOCSCIENCE.txt', 'TECH.txt']"
            ]
          },
          "metadata": {
            "tags": []
          },
          "execution_count": 8
        }
      ]
    },
    {
      "cell_type": "markdown",
      "metadata": {
        "id": "IxavGw5nYifT"
      },
      "source": [
        "##3번: 배점 2점\n",
        "\n",
        "2번의 변수 b와 for 구문을 이용하여 다음을 수행(코드라인 수 제한 없음) \n",
        "\n",
        "* 파일별 문자수 = 공백문자 및 문장부호 제외 문자수 \n",
        "* 파일별 어휘수 = 알파벳 또는 숫자문자 하나 이상 포함 어휘수 \n",
        "* 아래의 서식을 참고하여 함수 print를 이용하여 출력"
      ]
    },
    {
      "cell_type": "code",
      "metadata": {
        "colab": {
          "base_uri": "https://localhost:8080/"
        },
        "id": "JZRPd_LjZvKa",
        "outputId": "95e59160-b425-4936-dd64-2ddfa2351822"
      },
      "source": [
        "for fileid in b.fileids():\n",
        "    num_chars = len(re.sub('[^a-z0-9]','',b.raw(fileid), flags=re.I))\n",
        "    num_words = len([w for w in b.words(fileid) if re.search('[a-z0-9]',w, flags=re.I)])\n",
        "    print('파일명: {0:<15} 문자수: {1:<10,} 어휘수: {2:<10,}'.format(fileid, num_chars, num_words)) #답안"
      ],
      "execution_count": 9,
      "outputs": [
        {
          "output_type": "stream",
          "text": [
            "파일명: HUMANITIES.txt  문자수: 530,867    어휘수: 110,177   \n",
            "파일명: NATSCIENCE.txt  문자수: 538,039    어휘수: 110,008   \n",
            "파일명: SOCSCIENCE.txt  문자수: 566,873    어휘수: 115,451   \n",
            "파일명: TECH.txt        문자수: 530,235    어휘수: 106,654   \n"
          ],
          "name": "stdout"
        }
      ]
    },
    {
      "cell_type": "markdown",
      "metadata": {
        "id": "o712OSYbeFeZ"
      },
      "source": [
        "## 4번: 배점 2점\n",
        "2번의 변수 b를 이용하여 빈도 3,000 이상의 문장부호를 빈도 내림차순으로 정렬하여 다음과 같은 변수 c 를 출력 하는 한 줄 코드를 작성하시오."
      ]
    },
    {
      "cell_type": "code",
      "metadata": {
        "id": "wbausUOBskX_"
      },
      "source": [
        "c = sorted([w for w in nltk.FreqDist(b.raw()).items() if w[0].isalpha()==False and w[0].isdigit()==False and w[0].isspace()==False and nltk.FreqDist(b.raw())[w[0]] > 3000], key=lambda tup:(-tup[1], tup[0])) #답안"
      ],
      "execution_count": 10,
      "outputs": []
    },
    {
      "cell_type": "code",
      "metadata": {
        "id": "RPOqtC2xW84C",
        "colab": {
          "base_uri": "https://localhost:8080/"
        },
        "outputId": "cda64980-da67-4bbf-9d65-cbb34521445f"
      },
      "source": [
        "len(c)"
      ],
      "execution_count": 11,
      "outputs": [
        {
          "output_type": "execute_result",
          "data": {
            "text/plain": [
              "7"
            ]
          },
          "metadata": {
            "tags": []
          },
          "execution_count": 11
        }
      ]
    },
    {
      "cell_type": "code",
      "metadata": {
        "colab": {
          "base_uri": "https://localhost:8080/"
        },
        "id": "sfygOhYTw7-V",
        "outputId": "03f20eb9-a991-4b92-a43a-c40ecdc8b5aa"
      },
      "source": [
        "print(c)"
      ],
      "execution_count": 12,
      "outputs": [
        {
          "output_type": "stream",
          "text": [
            "[(',', 22634), ('.', 21953), ('-', 6226), (\"'\", 4888), (')', 3703), ('(', 3694), ('\"', 3095)]\n"
          ],
          "name": "stdout"
        }
      ]
    },
    {
      "cell_type": "markdown",
      "metadata": {
        "id": "CyLM54Tjm5Xc"
      },
      "source": [
        "##5번: 배점 2점\n",
        "\n",
        "2번의 변수 b, 4번의 변수 c, nltk의 tabulate 함수를 이용하여 다음과 같은 파일별 변수 c의 문장부호 빈도교차표를 출력하기 위한 코드를 제시하시오.(코드 라인 수 제한 없음)"
      ]
    },
    {
      "cell_type": "code",
      "metadata": {
        "colab": {
          "base_uri": "https://localhost:8080/"
        },
        "id": "McyvVFfPhyX1",
        "outputId": "69203d2c-0e33-4073-8bcc-17f6610d0414"
      },
      "source": [
        "cfd = nltk.ConditionalFreqDist((genre,word)\n",
        "for genre in b.fileids()\n",
        "for word in b.raw(genre))\n",
        "cfd.tabulate(conditions=b.fileids(), samples=[c[i][0] for i in range(len(c))]) #답안"
      ],
      "execution_count": 13,
      "outputs": [
        {
          "output_type": "stream",
          "text": [
            "                  ,    .    -    '    )    (    \" \n",
            "HUMANITIES.txt 5770 5087 1222 1640  584  584  877 \n",
            "NATSCIENCE.txt 6016 6091 1567  674 1515 1515  427 \n",
            "SOCSCIENCE.txt 6078 5674 1706 1845  701  701 1042 \n",
            "      TECH.txt 4770 5101 1731  729  903  894  749 \n"
          ],
          "name": "stdout"
        }
      ]
    },
    {
      "cell_type": "markdown",
      "metadata": {
        "id": "t2l5mwjS7ocR"
      },
      "source": [
        "## 6번: 배점 2점\n",
        "2번의 변수 b와 for 구문, nltk similar을 이용하여 다음을 수행(코드라인 수 제한 없음) \n",
        "* 파일별 ‘evidence’와 분포 맥락이 어휘 목록을 추출 \n",
        "* 아래와 같이 파일명을 print 함수를 이용하여 출력한 후 nltk similar를 이용하여 출력 "
      ]
    },
    {
      "cell_type": "code",
      "metadata": {
        "colab": {
          "base_uri": "https://localhost:8080/"
        },
        "id": "gEeQZyC57mjI",
        "outputId": "73fbc692-0c0f-4160-c2d9-ec0b018e9f99"
      },
      "source": [
        "for fileid in b.fileids():\n",
        "    print('{0}'.format(fileid))\n",
        "    nltk.Text(b.words(fileid)).similar('evidence') #답안"
      ],
      "execution_count": 14,
      "outputs": [
        {
          "output_type": "stream",
          "text": [
            "HUMANITIES.txt\n",
            "one those time land life workshops islands flooding way that other\n",
            "death nature signs some them works loss most definition\n",
            "NATSCIENCE.txt\n",
            "way need two implications absence so difficult argue year application\n",
            "data same form soil surface zone work association material consisting\n",
            "SOCSCIENCE.txt\n",
            "one time part members which areas aware much discussion method crucial\n",
            "discounting history the of measure and over another not\n",
            "TECH.txt\n",
            "is most possible selection use all those some but uncertainty into one\n",
            "i follows assumed be which mentioned many such\n"
          ],
          "name": "stdout"
        }
      ]
    }
  ]
}